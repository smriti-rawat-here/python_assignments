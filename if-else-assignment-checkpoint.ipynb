{
 "cells": [
  {
   "cell_type": "code",
   "execution_count": 2,
   "id": "8d560cd8-bfe0-41c0-b41b-d28d584dceca",
   "metadata": {},
   "outputs": [
    {
     "data": {
      "text/plain": [
       "'Q1. Write a program to calculate the electricity bill\\nusing only if statement? (accept number of unit from user)\\naccording to the following criteria:\\n\\nUnit Price\\nFirst 100 units no charge\\nNext 100 units Rs 5 per unit\\nAfter 200 units Rs 10 per unit '"
      ]
     },
     "execution_count": 2,
     "metadata": {},
     "output_type": "execute_result"
    }
   ],
   "source": [
    "'''Q1. Write a program to calculate the electricity bill\n",
    "using only if statement? (accept number of unit from user)\n",
    "according to the following criteria:\n",
    "\n",
    "Unit Price\n",
    "First 100 units no charge\n",
    "Next 100 units Rs 5 per unit\n",
    "After 200 units Rs 10 per unit '''\n"
   ]
  },
  {
   "cell_type": "code",
   "execution_count": 3,
   "id": "9137f1dd-ec5d-4373-bb42-702fd7cd3557",
   "metadata": {},
   "outputs": [
    {
     "name": "stdin",
     "output_type": "stream",
     "text": [
      "Enter the number of units consumed:  89\n"
     ]
    },
    {
     "name": "stdout",
     "output_type": "stream",
     "text": [
      "Electricity Bill: Rs 0\n"
     ]
    }
   ],
   "source": [
    "units = int(input(\"Enter the number of units consumed: \"))\n",
    "charge = 0\n",
    "if units <= 100:\n",
    "  charge = 0\n",
    "elif units <= 200:\n",
    "  charge = (units - 100) * 5\n",
    "else:\n",
    "  charge = (100 * 0) + (100 * 5) + (units - 200) * 10\n",
    "\n",
    "print(\"Electricity Bill: Rs\", charge)"
   ]
  },
  {
   "cell_type": "code",
   "execution_count": 5,
   "id": "9d956184-5c80-4014-8b20-bcc00d0a2636",
   "metadata": {},
   "outputs": [
    {
     "data": {
      "text/plain": [
       "'Q2 Write a program to accept percentage from the user and display\\nthe grade according to the following criteria:\\n\\nMarks Grade\\n> 90 A\\n> 80 and <= 90 B\\n>= 60 and <= 80 C\\nbelow 60 is D '"
      ]
     },
     "execution_count": 5,
     "metadata": {},
     "output_type": "execute_result"
    }
   ],
   "source": [
    "'''Q2 Write a program to accept percentage from the user and display\n",
    "the grade according to the following criteria:\n",
    "\n",
    "Marks Grade\n",
    "> 90 A\n",
    "> 80 and <= 90 B\n",
    ">= 60 and <= 80 C\n",
    "below 60 is D '''"
   ]
  },
  {
   "cell_type": "code",
   "execution_count": 6,
   "id": "4d6e563e-e52e-4a5a-afe2-f75d58b336fc",
   "metadata": {},
   "outputs": [
    {
     "name": "stdin",
     "output_type": "stream",
     "text": [
      "Enter the percentage:  89\n"
     ]
    },
    {
     "name": "stdout",
     "output_type": "stream",
     "text": [
      "Grade: B\n"
     ]
    }
   ],
   "source": [
    "percentage = int(input(\"Enter the percentage: \"))\n",
    "if percentage > 90:\n",
    "    grade = \"A\"\n",
    "elif percentage > 80:\n",
    "    grade = \"B\"\n",
    "elif percentage >= 60:\n",
    "    grade = \"C\"\n",
    "else:\n",
    "    grade = \"D\"\n",
    "print(\"Grade:\", grade)"
   ]
  },
  {
   "cell_type": "code",
   "execution_count": 7,
   "id": "3773bff1-443b-4475-98c8-d5c447aab41b",
   "metadata": {},
   "outputs": [],
   "source": [
    "#Q3. Accept the age of 4 people and display the youngest one?\n"
   ]
  },
  {
   "cell_type": "code",
   "execution_count": 8,
   "id": "b5c3d16b-1524-46cf-a4b0-2c88027cc34c",
   "metadata": {},
   "outputs": [
    {
     "name": "stdin",
     "output_type": "stream",
     "text": [
      "Enter age of person 1:  25\n",
      "Enter age of person 2:  23\n",
      "Enter age of person 3:  24\n",
      "Enter age of person 4:  27\n"
     ]
    },
    {
     "name": "stdout",
     "output_type": "stream",
     "text": [
      "The youngest person's age is: 23\n"
     ]
    }
   ],
   "source": [
    "age1 = int(input(\"Enter age of person 1: \"))\n",
    "age2 = int(input(\"Enter age of person 2: \"))\n",
    "age3 = int(input(\"Enter age of person 3: \"))\n",
    "age4 = int(input(\"Enter age of person 4: \"))\n",
    "\n",
    "youngest_age = age1\n",
    "\n",
    "if age2 < youngest_age:\n",
    "    youngest_age = age2\n",
    "if age3 < youngest_age:\n",
    "    youngest_age = age3\n",
    "if age4 < youngest_age:\n",
    "    youngest_age = age4\n",
    "\n",
    "print(\"The youngest person's age is:\", youngest_age) "
   ]
  },
  {
   "cell_type": "code",
   "execution_count": 9,
   "id": "fac41c51-1017-4a36-8e0a-77d4dcd67eb9",
   "metadata": {},
   "outputs": [
    {
     "data": {
      "text/plain": [
       "'Q4. A company decided to give bonus to employee\\naccording to following criteria:\\n\\nTime period of Service Bonus\\n\\nMore than 10 years 10%\\n\\n>=6 and <=10 8%\\n\\nLess than 6 years 5%\\n\\nAsk user for their salary and years of service and print the\\nnet bonus amount?'"
      ]
     },
     "execution_count": 9,
     "metadata": {},
     "output_type": "execute_result"
    }
   ],
   "source": [
    "'''Q4. A company decided to give bonus to employee\n",
    "according to following criteria:\n",
    "\n",
    "Time period of Service Bonus\n",
    "\n",
    "More than 10 years 10%\n",
    "\n",
    ">=6 and <=10 8%\n",
    "\n",
    "Less than 6 years 5%\n",
    "\n",
    "Ask user for their salary and years of service and print the\n",
    "net bonus amount?'''"
   ]
  },
  {
   "cell_type": "code",
   "execution_count": 10,
   "id": "eb76d86e-97d8-4b09-88e6-60b7e4fc4ec1",
   "metadata": {},
   "outputs": [
    {
     "name": "stdin",
     "output_type": "stream",
     "text": [
      "Enter your salary:  70000\n",
      "Enter your years of service:  8\n"
     ]
    },
    {
     "name": "stdout",
     "output_type": "stream",
     "text": [
      "Net bonus amount: 5600.0\n"
     ]
    }
   ],
   "source": [
    "salary = int(input(\"Enter your salary: \"))\n",
    "years_of_service = int(input(\"Enter your years of service: \"))\n",
    "\n",
    "if years_of_service > 10:\n",
    "    bonus_percentage = 10\n",
    "elif years_of_service >= 6:\n",
    "    bonus_percentage = 8\n",
    "else:\n",
    "    bonus_percentage = 5\n",
    "\n",
    "bonus_amount = (salary * bonus_percentage) / 100\n",
    "\n",
    "print(\"Net bonus amount:\", bonus_amount)"
   ]
  },
  {
   "cell_type": "code",
   "execution_count": 12,
   "id": "1b6fe46e-1137-4231-9135-db991b0b2155",
   "metadata": {},
   "outputs": [],
   "source": [
    "#Q5Accept three numbers from the user and display the secomd largest number"
   ]
  },
  {
   "cell_type": "code",
   "execution_count": 13,
   "id": "38631102-d055-4070-ae6e-297e01812bee",
   "metadata": {},
   "outputs": [
    {
     "name": "stdin",
     "output_type": "stream",
     "text": [
      "Enter the first number:  89\n",
      "Enter the second number:  87\n",
      "Enter the third number:  99\n"
     ]
    },
    {
     "name": "stdout",
     "output_type": "stream",
     "text": [
      "The second-largest number is: 89\n"
     ]
    }
   ],
   "source": [
    "num1 = int(input(\"Enter the first number: \"))\n",
    "num2 = int(input(\"Enter the second number: \"))\n",
    "num3 = int(input(\"Enter the third number: \"))\n",
    "\n",
    "if num1 >= num2 and num1 >= num3:\n",
    "    if num2 >= num3:\n",
    "        second_largest = num2\n",
    "    else:\n",
    "        second_largest = num3\n",
    "elif num2 >= num1 and num2 >= num3:\n",
    "    if num1 >= num3:\n",
    "        second_largest = num1\n",
    "    else:\n",
    "        second_largest = num3\n",
    "else:\n",
    "    if num1 >= num2:\n",
    "        second_largest = num1\n",
    "    else:\n",
    "        second_largest = num2\n",
    "      \n",
    "print(\"The second-largest number is:\", second_largest)"
   ]
  },
  {
   "cell_type": "code",
   "execution_count": 14,
   "id": "09233a91-da91-49d1-ba8d-f9959f2751dd",
   "metadata": {},
   "outputs": [
    {
     "data": {
      "text/plain": [
       "'Q6. Accept the marked price from the user and calculate\\nthe Net amount as (Marked Price – Discount) to pay\\naccording to following criteria:\\n\\nMarked Price            Discount\\n>10000                   20%\\n>7000 and <=10000        15%\\n<=7000                   10%'"
      ]
     },
     "execution_count": 14,
     "metadata": {},
     "output_type": "execute_result"
    }
   ],
   "source": [
    "'''Q6. Accept the marked price from the user and calculate\n",
    "the Net amount as (Marked Price – Discount) to pay\n",
    "according to following criteria:\n",
    "\n",
    "Marked Price            Discount\n",
    ">10000                   20%\n",
    ">7000 and <=10000        15%\n",
    "<=7000                   10%'''"
   ]
  },
  {
   "cell_type": "code",
   "execution_count": 15,
   "id": "a8e9642d-2286-429e-a95f-6a53fa6703e1",
   "metadata": {},
   "outputs": [
    {
     "name": "stdin",
     "output_type": "stream",
     "text": [
      "Enter the marked price:  89000\n"
     ]
    },
    {
     "name": "stdout",
     "output_type": "stream",
     "text": [
      "Net amount to pay: 71200.0\n"
     ]
    }
   ],
   "source": [
    "marked_price = int(input(\"Enter the marked price: \"))\n",
    "\n",
    "if marked_price > 10000:\n",
    "    discount_percentage = 20\n",
    "elif marked_price > 7000:\n",
    "    discount_percentage = 15\n",
    "else:\n",
    "    discount_percentage = 10\n",
    "\n",
    "discount = (marked_price * discount_percentage) / 100\n",
    "net_amount = marked_price - discount\n",
    "print(\"Net amount to pay:\", net_amount)"
   ]
  },
  {
   "cell_type": "code",
   "execution_count": 16,
   "id": "cb184085-283f-4d2a-b91e-35896d4dedc3",
   "metadata": {},
   "outputs": [
    {
     "data": {
      "text/plain": [
       "'Q7.Accept the marks of English, Math and Science,\\nSocial Studies Subject and display the stream allotted\\naccording to following:\\n\\nAll Subjects more than 80 marks — Science Stream\\n\\nEnglish >80 and Math, Science above 50 — Commerce Stream\\n\\nEnglish > 80 and social studies > 80 — Humanities'"
      ]
     },
     "execution_count": 16,
     "metadata": {},
     "output_type": "execute_result"
    }
   ],
   "source": [
    "'''Q7.Accept the marks of English, Math and Science,\n",
    "Social Studies Subject and display the stream allotted\n",
    "according to following:\n",
    "\n",
    "All Subjects more than 80 marks — Science Stream\n",
    "\n",
    "English >80 and Math, Science above 50 — Commerce Stream\n",
    "\n",
    "English > 80 and social studies > 80 — Humanities'''"
   ]
  },
  {
   "cell_type": "code",
   "execution_count": 17,
   "id": "ef744018-5f58-43f7-a53f-be55fb7744d3",
   "metadata": {},
   "outputs": [
    {
     "name": "stdin",
     "output_type": "stream",
     "text": [
      "Enter marks in English:  89\n",
      "Enter marks in Math:  99\n",
      "Enter marks in Science:  76\n",
      "Enter marks in Social Studies:  56\n"
     ]
    },
    {
     "name": "stdout",
     "output_type": "stream",
     "text": [
      "Stream Allotted: Commerce Stream\n"
     ]
    }
   ],
   "source": [
    "english_marks = int(input(\"Enter marks in English: \"))\n",
    "math_marks = int(input(\"Enter marks in Math: \"))\n",
    "science_marks =int(input(\"Enter marks in Science: \"))\n",
    "social_studies_marks = int(input(\"Enter marks in Social Studies: \"))\n",
    "\n",
    "if english_marks > 80 and math_marks > 50 and science_marks > 50:\n",
    "    stream = \"Commerce Stream\"\n",
    "elif english_marks > 80 and social_studies_marks > 80:\n",
    "    stream = \"Humanities Stream\"\n",
    "elif english_marks > 80 and math_marks > 80 and science_marks > 80 and social_studies_marks > 80:\n",
    "        stream = \"Science Stream\"\n",
    "else:\n",
    "    stream = \"Undecided Stream\"\n",
    "\n",
    "print(\"Stream Allotted:\", stream)"
   ]
  },
  {
   "cell_type": "code",
   "execution_count": 18,
   "id": "ee83bd63-5345-4100-992c-d4a9648e04ec",
   "metadata": {},
   "outputs": [],
   "source": [
    "#Q8.  Write a program to display \"Hello\" if a number entered by user is a multiple of five, otherwise print \"Bye\"?"
   ]
  },
  {
   "cell_type": "code",
   "execution_count": 19,
   "id": "12b040c1-2ce3-4fd7-a2b9-9b31daef916d",
   "metadata": {},
   "outputs": [
    {
     "name": "stdin",
     "output_type": "stream",
     "text": [
      "Enter a number:  89\n"
     ]
    },
    {
     "name": "stdout",
     "output_type": "stream",
     "text": [
      "Bye\n"
     ]
    }
   ],
   "source": [
    "number = int(input(\"Enter a number: \"))\n",
    "\n",
    "if number % 5 == 0:\n",
    "    print(\"Hello\")\n",
    "else:\n",
    "    print(\"Bye\")"
   ]
  },
  {
   "cell_type": "code",
   "execution_count": 20,
   "id": "340e64bd-1a58-44c4-b23f-7490353bb824",
   "metadata": {},
   "outputs": [],
   "source": [
    "#Q9. Write a program to check whether the last digit of a number (entered by user) is divisible by 3 or not?"
   ]
  },
  {
   "cell_type": "code",
   "execution_count": 21,
   "id": "776ccc79-ee76-46c5-aaf7-983322d335da",
   "metadata": {},
   "outputs": [
    {
     "name": "stdin",
     "output_type": "stream",
     "text": [
      "Enter a number:  898\n"
     ]
    },
    {
     "name": "stdout",
     "output_type": "stream",
     "text": [
      "The last digit is not divisible by 3.\n"
     ]
    }
   ],
   "source": [
    "number = int(input(\"Enter a number: \"))\n",
    "last_digit = number % 10\n",
    "\n",
    "if last_digit % 3 == 0:\n",
    "    print(\"The last digit is divisible by 3.\")\n",
    "else:\n",
    "    print(\"The last digit is not divisible by 3.\")"
   ]
  },
  {
   "cell_type": "code",
   "execution_count": 22,
   "id": "6c973593-7af3-42c9-8695-0ccdb9a66ef8",
   "metadata": {},
   "outputs": [],
   "source": [
    "#Q10. Write a program to check whether a number entered\n",
    "#is three-digit number or not?"
   ]
  },
  {
   "cell_type": "code",
   "execution_count": null,
   "id": "edc0df6b-03b9-4bd5-8506-d1206a0b6693",
   "metadata": {},
   "outputs": [],
   "source": []
  }
 ],
 "metadata": {
  "kernelspec": {
   "display_name": "Python 3 (ipykernel)",
   "language": "python",
   "name": "python3"
  },
  "language_info": {
   "codemirror_mode": {
    "name": "ipython",
    "version": 3
   },
   "file_extension": ".py",
   "mimetype": "text/x-python",
   "name": "python",
   "nbconvert_exporter": "python",
   "pygments_lexer": "ipython3",
   "version": "3.11.7"
  }
 },
 "nbformat": 4,
 "nbformat_minor": 5
}
