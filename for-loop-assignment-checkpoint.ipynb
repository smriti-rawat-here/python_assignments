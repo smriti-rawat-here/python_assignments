{
 "cells": [
  {
   "cell_type": "code",
   "execution_count": 1,
   "id": "53620a04-a47e-4c73-a13c-3e9c37a185ae",
   "metadata": {},
   "outputs": [
    {
     "data": {
      "text/plain": [
       "'Task1:\\nYou have a nested list as below:\\nindian_employees = [[\"Raj\", \"Patel\"], [\"Priya\", \"Sharma\"],[\"Amit\", \"Kumar\"],[\"Neha\", \"Singh\"]]\\nyour have to create an email address for each employee.\\nEmail address should be there firstname+lastname@gmail.com\\n\\nExpected output:\\nRajPatel@gmail.com\\nPriyaSharma@gmail.com\\nYou have to create email addresses for each employee.'"
      ]
     },
     "execution_count": 1,
     "metadata": {},
     "output_type": "execute_result"
    }
   ],
   "source": [
    "'''Task1:\n",
    "You have a nested list as below:\n",
    "indian_employees = [[\"Raj\", \"Patel\"], [\"Priya\", \"Sharma\"],[\"Amit\", \"Kumar\"],[\"Neha\", \"Singh\"]]\n",
    "your have to create an email address for each employee.\n",
    "Email address should be there firstname+lastname@gmail.com\n",
    "\n",
    "Expected output:\n",
    "RajPatel@gmail.com\n",
    "PriyaSharma@gmail.com\n",
    "You have to create email addresses for each employee.'''"
   ]
  },
  {
   "cell_type": "code",
   "execution_count": 2,
   "id": "6caa3354-4020-42fa-b8a7-f2546ee4e66a",
   "metadata": {},
   "outputs": [
    {
     "name": "stdout",
     "output_type": "stream",
     "text": [
      "RajPatel@gmail.com\n",
      "PriyaSharma@gmail.com\n",
      "AmitKumar@gmail.com\n",
      "NehaSingh@gmail.com\n"
     ]
    }
   ],
   "source": [
    "indian_employees = [[\"Raj\", \"Patel\"], [\"Priya\", \"Sharma\"], [\"Amit\", \"Kumar\"], [\"Neha\", \"Singh\"]]\n",
    "\n",
    "for employee in indian_employees:\n",
    "    first_name = employee[0]\n",
    "    last_name = employee[1]\n",
    "    email_address = f\"{first_name}{last_name}@gmail.com\"\n",
    "    print(email_address)\n",
    "  "
   ]
  },
  {
   "cell_type": "code",
   "execution_count": null,
   "id": "8ba7b5a9-2e72-4760-9b82-7a484e8d39e2",
   "metadata": {},
   "outputs": [],
   "source": []
  }
 ],
 "metadata": {
  "kernelspec": {
   "display_name": "Python 3 (ipykernel)",
   "language": "python",
   "name": "python3"
  },
  "language_info": {
   "codemirror_mode": {
    "name": "ipython",
    "version": 3
   },
   "file_extension": ".py",
   "mimetype": "text/x-python",
   "name": "python",
   "nbconvert_exporter": "python",
   "pygments_lexer": "ipython3",
   "version": "3.11.7"
  }
 },
 "nbformat": 4,
 "nbformat_minor": 5
}
