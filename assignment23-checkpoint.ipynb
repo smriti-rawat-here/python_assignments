{
 "cells": [
  {
   "cell_type": "code",
   "execution_count": 1,
   "id": "67599c10-6f70-495b-a37f-e91577d3578f",
   "metadata": {},
   "outputs": [
    {
     "name": "stdout",
     "output_type": "stream",
     "text": [
      "True\n"
     ]
    }
   ],
   "source": [
    "'''Question 1\n",
    "Create a function that takes a number as an argument and returns True or False depending\n",
    "on whether the number is symmetrical or not. A number is symmetrical when it is the same as\n",
    "its reverse.'''\n",
    "def is_symmetrical(number):\n",
    "\n",
    "  num_str = str(number)\n",
    " \n",
    "  reversed_str = num_str[::-1]\n",
    "\n",
    "  return num_str == reversed_str\n",
    "\n",
    "print(is_symmetrical(121))  \n"
   ]
  },
  {
   "cell_type": "code",
   "execution_count": 2,
   "id": "2bdbc857-c6db-499a-9494-3a000832818f",
   "metadata": {},
   "outputs": [
    {
     "name": "stdout",
     "output_type": "stream",
     "text": [
      "12321 is symmetrical\n",
      "2 is symmetrical\n",
      "33 is symmetrical\n",
      "121 is symmetrical\n",
      "987 is not symmetrical\n",
      "\n",
      "Product of numbers in '12321, 2, 33, 121, 987': 97116364422\n"
     ]
    }
   ],
   "source": [
    "'''Question 2\n",
    "Given a string of numbers separated by a comma and space, return the product of the\n",
    "numbers.'''\n",
    "def is_symmetrical(number):\n",
    "  \n",
    "  num_str = str(number)\n",
    "\n",
    "  reversed_str = num_str[::-1]\n",
    "  \n",
    "  return num_str == reversed_str\n",
    "\n",
    "def calculate_product(numbers_string):\n",
    "  number_strings = numbers_string.split(\", \")\n",
    "  product = 1\n",
    "  \n",
    "    for num_str in number_strings:\n",
    "      num = int(num_str)\n",
    "      product *= num\n",
    "\n",
    "  return product\n",
    "\n",
    "input_str = \"12321, 2, 33, 121, 987\"\n",
    "numbers_list = input_str.split(\", \")\n",
    "\n",
    "for number_str in numbers_list:\n",
    "  number = int(number_str)\n",
    "  if is_symmetrical(number):\n",
    "      print(f\"{number} is symmetrical\")\n",
    "  else:\n",
    "      print(f\"{number} is not symmetrical\")\n",
    "\n",
    "product = calculate_product(input_str)\n",
    "print(f\"\\nProduct of numbers in '{input_str}': {product}\")"
   ]
  },
  {
   "cell_type": "code",
   "execution_count": 3,
   "id": "56da9f40-d15e-4bc0-98a1-c8728d6d0644",
   "metadata": {},
   "outputs": [
    {
     "name": "stdout",
     "output_type": "stream",
     "text": [
      "811181\n"
     ]
    }
   ],
   "source": [
    "'''Create a function that squares every digit of a number.'''\n",
    "def square_digits(number):\n",
    "\n",
    "  num_str = str(number)\n",
    "  squared_digits = \"\"\n",
    "\n",
    " \n",
    "  for digit in num_str:\n",
    "   \n",
    "      squared_digit = str(int(digit) ** 2)\n",
    "      \n",
    "      squared_digits += squared_digit\n",
    "\n",
    "  return int(squared_digits)\n",
    "print(square_digits(9119))"
   ]
  },
  {
   "cell_type": "code",
   "execution_count": 4,
   "id": "d920b6f6-0261-4e27-a5f7-fc0b2f46e2ea",
   "metadata": {},
   "outputs": [
    {
     "name": "stdout",
     "output_type": "stream",
     "text": [
      "[1, 2, 3, 4, 5, 6, 9]\n"
     ]
    }
   ],
   "source": [
    "'''Create a function that sorts a list and removes all duplicate items from it.'''\n",
    "def sort_and_remove_duplicates(lst):\n",
    "  sorted_list = sorted(lst)\n",
    "  unique_elements = set(sorted_list)\n",
    "\n",
    "  result_list = list(unique_elements)\n",
    "  return result_list\n",
    "numbers = [3, 1, 4, 1, 5, 9, 2, 6, 5, 3, 5]\n",
    "result = sort_and_remove_duplicates(numbers)\n",
    "print(result)  "
   ]
  },
  {
   "cell_type": "code",
   "execution_count": 9,
   "id": "3722cbf4-17f5-46ff-a221-2c9b9de7250b",
   "metadata": {},
   "outputs": [
    {
     "name": "stdout",
     "output_type": "stream",
     "text": [
      "3.0\n"
     ]
    }
   ],
   "source": [
    "'''Create a function that returns the mean of all digits.'''\n",
    "def mean_of_digits(number):\n",
    "   num_str = str(number)\n",
    "   sum_of_digits = 0\n",
    "   count_of_digits = len(num_str)\n",
    "\n",
    "   for digit in num_str:\n",
    "      \n",
    "      sum_of_digits += int(digit)\n",
    "\n",
    "   if count_of_digits > 0:\n",
    "      mean = sum_of_digits / count_of_digits\n",
    "   else:\n",
    "      mean = 0 \n",
    "\n",
    "   return mean\n",
    "    \n",
    "print(mean_of_digits(12345))\n"
   ]
  },
  {
   "cell_type": "code",
   "execution_count": null,
   "id": "540c30c8-5d04-4fe1-9f13-cf55ba24e737",
   "metadata": {},
   "outputs": [],
   "source": []
  },
  {
   "cell_type": "code",
   "execution_count": null,
   "id": "2a287121-2b3f-42e1-9418-deb1b79f6275",
   "metadata": {},
   "outputs": [],
   "source": []
  }
 ],
 "metadata": {
  "kernelspec": {
   "display_name": "Python 3 (ipykernel)",
   "language": "python",
   "name": "python3"
  },
  "language_info": {
   "codemirror_mode": {
    "name": "ipython",
    "version": 3
   },
   "file_extension": ".py",
   "mimetype": "text/x-python",
   "name": "python",
   "nbconvert_exporter": "python",
   "pygments_lexer": "ipython3",
   "version": "3.11.7"
  }
 },
 "nbformat": 4,
 "nbformat_minor": 5
}
