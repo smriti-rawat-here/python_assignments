{
 "cells": [
  {
   "cell_type": "code",
   "execution_count": 1,
   "id": "6fc8d95a-7b1f-4fe2-aef5-9e4784eb2411",
   "metadata": {},
   "outputs": [
    {
     "name": "stdout",
     "output_type": "stream",
     "text": [
      "[2, 4, 6, 8, 10]\n"
     ]
    }
   ],
   "source": [
    "'''Question1\n",
    "Create a function that takes three parameters where:\n",
    " x is the start of the range (inclusive).\n",
    " y is the end of the range (inclusive).\n",
    " n is the divisor to be checked against.\n",
    "Return an ordered list with numbers in the range that are divisible by the third parameter n.\n",
    "Return an empty list if there are no numbers that are divisible by n.'''\n",
    "def divisible_range(x, y, n):\n",
    "  result = []\n",
    "  for num in range(x, y + 1):\n",
    "      if num % n == 0:\n",
    "          result.append(num)\n",
    "  return result\n",
    "print(divisible_range(1, 10, 2))"
   ]
  },
  {
   "cell_type": "code",
   "execution_count": 5,
   "id": "cf10faba-3a63-47c8-b424-5566b68b6504",
   "metadata": {},
   "outputs": [
    {
     "name": "stdout",
     "output_type": "stream",
     "text": [
      "False\n"
     ]
    }
   ],
   "source": [
    "'''Question2\n",
    "Create a function that takes in two lists and returns True if the second list follows the first list\n",
    "by one element, and False otherwise. In other words, determine if the second list is the first\n",
    "list shifted to the right by 1.\n",
    "'''\n",
    "def is_shifted_list(lst1, lst2):\n",
    " \n",
    "  if len(lst1) != len(lst2) or len(lst1) == 0:\n",
    "      return False\n",
    "\n",
    "  for i in range(len(lst1) - 1):\n",
    "      if lst1[i] != lst2[i + 1]:\n",
    "          return False\n",
    "\n",
    "  if lst1[-1] == lst2[0]:\n",
    "      return True\n",
    "  else:\n",
    "      return False\n",
    "print(is_shifted_list([1, 2, 3, 4, 5], [2, 3]))"
   ]
  },
  {
   "cell_type": "code",
   "execution_count": 6,
   "id": "0ef9cfd1-bef2-478a-b36d-a195c59a1832",
   "metadata": {},
   "outputs": [
    {
     "name": "stdout",
     "output_type": "stream",
     "text": [
      "HHR\n"
     ]
    }
   ],
   "source": [
    "'''Question3\n",
    "A group of friends have decided to start a secret society. The name will be the first letter of\n",
    "each of their names, sorted in alphabetical order.\n",
    "Create a function that takes in a list of names and returns the name of the secret society.'''\n",
    "def secret_society(names):\n",
    "  society_name = \"\"\n",
    "\n",
    "  for name in names:\n",
    "      \n",
    "      society_name += name[0]\n",
    "\n",
    "  sorted_name = ''.join(sorted(society_name))\n",
    "\n",
    "  return sorted_name\n",
    "\n",
    "print(secret_society([\"Harry\", \"Ron\", \"Hermione\"]))  "
   ]
  },
  {
   "cell_type": "code",
   "execution_count": 7,
   "id": "d30460fc-683a-42ae-8b41-a832e910e0d3",
   "metadata": {},
   "outputs": [
    {
     "name": "stdout",
     "output_type": "stream",
     "text": [
      "False\n"
     ]
    }
   ],
   "source": [
    "'''Question4\n",
    "An isogram is a word that has no duplicate letters. Create a function that takes a string and\n",
    "returns either True or False depending on whether or not it&#39;s an &quot;isogram&quot;.'''\n",
    "\n",
    "def is_isogram(string):\n",
    "\n",
    "  string = string.lower()\n",
    "\n",
    "  seen = set()\n",
    "  for char in string:\n",
    "     \n",
    "      if char in seen:\n",
    "          return False\n",
    "     \n",
    "      seen.add(char)\n",
    "\n",
    "\n",
    "  return True\n",
    "print(is_isogram(\"vaishali\"))"
   ]
  },
  {
   "cell_type": "code",
   "execution_count": 8,
   "id": "708eeab4-1b6f-4010-b5b8-e1bab4a35ff1",
   "metadata": {},
   "outputs": [
    {
     "name": "stdout",
     "output_type": "stream",
     "text": [
      "False\n"
     ]
    }
   ],
   "source": [
    "'''Question5\n",
    "Create a function that takes a string and returns True or False, depending on whether the\n",
    "characters are in order or not.'''\n",
    "def in_order(string):\n",
    "  for i in range(len(string) - 1):\n",
    "      if string[i] > string[i + 1]:\n",
    "          return False\n",
    "  return True\n",
    "\n",
    "print(in_order(\"smriti\")) \n"
   ]
  },
  {
   "cell_type": "code",
   "execution_count": null,
   "id": "c8658ac6-88dc-4317-8910-a149090e813b",
   "metadata": {},
   "outputs": [],
   "source": []
  }
 ],
 "metadata": {
  "kernelspec": {
   "display_name": "Python 3 (ipykernel)",
   "language": "python",
   "name": "python3"
  },
  "language_info": {
   "codemirror_mode": {
    "name": "ipython",
    "version": 3
   },
   "file_extension": ".py",
   "mimetype": "text/x-python",
   "name": "python",
   "nbconvert_exporter": "python",
   "pygments_lexer": "ipython3",
   "version": "3.11.7"
  }
 },
 "nbformat": 4,
 "nbformat_minor": 5
}
