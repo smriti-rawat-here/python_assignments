{
 "cells": [
  {
   "cell_type": "code",
   "execution_count": 1,
   "id": "c036a051-15cf-4ca0-8c91-a280f853adc5",
   "metadata": {},
   "outputs": [
    {
     "name": "stdout",
     "output_type": "stream",
     "text": [
      "hello python\n"
     ]
    }
   ],
   "source": [
    "#print a program to print \"hello python\"\n",
    "\n",
    "print(\"hello python\")\n"
   ]
  },
  {
   "cell_type": "code",
   "execution_count": 6,
   "id": "a0eb38d1-62db-4751-9288-c8d3091a8c2b",
   "metadata": {},
   "outputs": [
    {
     "name": "stdout",
     "output_type": "stream",
     "text": [
      "34\n"
     ]
    }
   ],
   "source": [
    "#write a program to do arithmatic operations addition \n",
    "number1 = \"3\"\n",
    "number2 = \"4\"\n",
    "print(number1 + number2)\n"
   ]
  },
  {
   "cell_type": "code",
   "execution_count": 7,
   "id": "25322558-a485-4733-8dd3-27cda2077c67",
   "metadata": {},
   "outputs": [
    {
     "name": "stdin",
     "output_type": "stream",
     "text": [
      "Enter the first number:  7\n",
      "Enter the second number:  89\n"
     ]
    },
    {
     "name": "stdout",
     "output_type": "stream",
     "text": [
      "Result: 0.07865168539325842\n"
     ]
    }
   ],
   "source": [
    "#for division we cannot directly use / in strings we have to do split method \n",
    "def division(number1, number2):\n",
    "    # Check if num2 is not zero to avoid division by zero error\n",
    "    if number2 != 0:\n",
    "        return number1 / number2\n",
    "    else:\n",
    "        return \"Error: Division by zero is undefined.\"\n",
    "\n",
    "# Test the function\n",
    "num1 = float(input(\"Enter the first number: \"))\n",
    "num2 = float(input(\"Enter the second number: \"))\n",
    "\n",
    "result = division(num1, num2)\n",
    "print(\"Result:\", result)\n"
   ]
  },
  {
   "cell_type": "code",
   "execution_count": 8,
   "id": "17cff65f-a1fa-420e-8959-e31aa58cb6b9",
   "metadata": {},
   "outputs": [
    {
     "name": "stdin",
     "output_type": "stream",
     "text": [
      "Enter the length of the base of the triangle:  8\n",
      "Enter the height of the triangle:  9\n"
     ]
    },
    {
     "name": "stdout",
     "output_type": "stream",
     "text": [
      "The area of the triangle is: 36.0\n"
     ]
    }
   ],
   "source": [
    "#write a pythn program to find the area of a triangle, for that create a function first\n",
    "\n",
    "def area_of_triangle(base, height):\n",
    "    return 0.5 * base * height\n",
    "\n",
    "# Input the base and height of the triangle\n",
    "base = float(input(\"Enter the length of the base of the triangle: \"))\n",
    "height = float(input(\"Enter the height of the triangle: \"))\n",
    "\n",
    "# Calculate the area of the triangle\n",
    "area = area_of_triangle(base, height)\n",
    "\n",
    "# Output the result\n",
    "print(\"The area of the triangle is:\", area)\n"
   ]
  },
  {
   "cell_type": "code",
   "execution_count": 9,
   "id": "8369e823-d048-4b4f-a8f4-49ceef72a362",
   "metadata": {},
   "outputs": [
    {
     "name": "stdout",
     "output_type": "stream",
     "text": [
      "Random number: 87\n"
     ]
    }
   ],
   "source": [
    "# write a python program to generate a random number , import random and make a function and amke sure to put int as input \n",
    "import random\n",
    "\n",
    "def generate_random_number():\n",
    "    # Generate a random integer between 1 and 100\n",
    "    return random.randint(1, 100)\n",
    "\n",
    "# Generate a random number\n",
    "random_number = generate_random_number()\n",
    "\n",
    "# Output the random number\n",
    "print(\"Random number:\", random_number)\n",
    "\n"
   ]
  },
  {
   "cell_type": "code",
   "execution_count": null,
   "id": "ccaba1a3-8ef2-4cad-a77d-46d4941672e1",
   "metadata": {},
   "outputs": [],
   "source": []
  }
 ],
 "metadata": {
  "kernelspec": {
   "display_name": "Python 3 (ipykernel)",
   "language": "python",
   "name": "python3"
  },
  "language_info": {
   "codemirror_mode": {
    "name": "ipython",
    "version": 3
   },
   "file_extension": ".py",
   "mimetype": "text/x-python",
   "name": "python",
   "nbconvert_exporter": "python",
   "pygments_lexer": "ipython3",
   "version": "3.11.7"
  }
 },
 "nbformat": 4,
 "nbformat_minor": 5
}
