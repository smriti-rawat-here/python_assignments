{
 "cells": [
  {
   "cell_type": "code",
   "execution_count": 4,
   "id": "2283654f-8af1-4767-afac-0b7efced56db",
   "metadata": {},
   "outputs": [
    {
     "name": "stdout",
     "output_type": "stream",
     "text": [
      "HHeelllloo\n"
     ]
    }
   ],
   "source": [
    "'''Question1\n",
    "Create a function that takes a string and returns a string in which each character is repeated once.'''\n",
    "def repeat_characters(input_string):\n",
    "  repeated_string = ''\n",
    "  for char in input_string:\n",
    "      repeated_string += char * 2  # to repeat each character once\n",
    "  return repeated_string\n",
    "input_str = \"Hello\"\n",
    "print(repeat_characters(input_str))  # Output: \"HHeelllloo\"\n"
   ]
  },
  {
   "cell_type": "code",
   "execution_count": 5,
   "id": "aba2cdd0-6714-4231-834c-7e14caa10580",
   "metadata": {},
   "outputs": [
    {
     "name": "stdout",
     "output_type": "stream",
     "text": [
      "False\n",
      "True\n",
      "boolean expected\n",
      "boolean expected\n",
      "boolean expected\n"
     ]
    }
   ],
   "source": [
    "\n",
    "'''Question2\n",
    "Create a function that reverses a boolean value and returns the string &quot;boolean expected&quot;\n",
    "if another variable type is given.'''\n",
    "def reverse_boolean(value):\n",
    "  if isinstance(value, bool):\n",
    "      return not value\n",
    "  else:\n",
    "      return \"boolean expected\"\n",
    "print(reverse_boolean(True))  \n",
    "print(reverse_boolean(False))  \n",
    "print(reverse_boolean(1))  \n",
    "print(reverse_boolean(None))   "
   ]
  },
  {
   "cell_type": "code",
   "execution_count": 6,
   "id": "a155da82-807b-495d-8a4f-b2902e1228da",
   "metadata": {},
   "outputs": [
    {
     "data": {
      "text/plain": [
       "'Create a function that returns the thickness (in meters) of a piece of paper after folding it n\\nnumber of times. The paper starts off with a thickness of 0.5mm.'"
      ]
     },
     "execution_count": 6,
     "metadata": {},
     "output_type": "execute_result"
    }
   ],
   "source": [
    "\n",
    "'''Create a function that returns the thickness (in meters) of a piece of paper after folding it n\n",
    "number of times. The paper starts off with a thickness of 0.5mm.'''\n"
   ]
  },
  {
   "cell_type": "code",
   "execution_count": 7,
   "id": "00567a5b-3c11-4135-bf1b-78c61c9f1c87",
   "metadata": {},
   "outputs": [
    {
     "name": "stdout",
     "output_type": "stream",
     "text": [
      "[0, 6, 13, 17, 21]\n"
     ]
    }
   ],
   "source": [
    "'''Create a function that takes a single string as argument and returns an ordered list containing\n",
    "the indices of all capital letters in the string.'''\n",
    "def find_capital_indices(input_string):\n",
    "  capital_indices = []\n",
    "  for index, char in enumerate(input_string):\n",
    "      if char.isupper():\n",
    "          capital_indices.append(index)\n",
    "  return capital_indices\n",
    "input_str = \"Hello World! How Are You?\"\n",
    "indices = find_capital_indices(input_str)\n",
    "print(indices) "
   ]
  },
  {
   "cell_type": "code",
   "execution_count": 8,
   "id": "1734c640-72f2-4418-b7cb-0f8547de74a7",
   "metadata": {},
   "outputs": [
    {
     "data": {
      "text/plain": [
       "'Using list comprehensions, create a function that finds all even numbers from 1 to the given\\nnumber.'"
      ]
     },
     "execution_count": 8,
     "metadata": {},
     "output_type": "execute_result"
    }
   ],
   "source": [
    "'''Using list comprehensions, create a function that finds all even numbers from 1 to the given\n",
    "number.'''"
   ]
  },
  {
   "cell_type": "code",
   "execution_count": null,
   "id": "a82719fa-1c77-43c6-94a1-97bec3468020",
   "metadata": {},
   "outputs": [],
   "source": []
  }
 ],
 "metadata": {
  "kernelspec": {
   "display_name": "Python 3 (ipykernel)",
   "language": "python",
   "name": "python3"
  },
  "language_info": {
   "codemirror_mode": {
    "name": "ipython",
    "version": 3
   },
   "file_extension": ".py",
   "mimetype": "text/x-python",
   "name": "python",
   "nbconvert_exporter": "python",
   "pygments_lexer": "ipython3",
   "version": "3.11.7"
  }
 },
 "nbformat": 4,
 "nbformat_minor": 5
}
