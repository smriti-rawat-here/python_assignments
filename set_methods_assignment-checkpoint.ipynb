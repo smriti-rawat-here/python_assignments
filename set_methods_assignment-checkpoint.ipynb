{
 "cells": [
  {
   "cell_type": "code",
   "execution_count": 3,
   "id": "27f0b341-733b-4596-a3ad-e3f4ee61bd7d",
   "metadata": {},
   "outputs": [
    {
     "name": "stdout",
     "output_type": "stream",
     "text": [
      "After adding 6  {1, 2, 3, 4, 5, 6}\n"
     ]
    }
   ],
   "source": [
    "# set methods \n",
    "#this assignment does not contain difference and intersection method cause i did not get those!\n",
    "set1 = {1, 2, 3, 4, 5}\n",
    "set2 = {4, 5, 6, 7, 8}\n",
    "\n",
    "# add(element)\n",
    "set1.add(6)\n",
    "print(\"After adding 6 \", set1)"
   ]
  },
  {
   "cell_type": "code",
   "execution_count": 4,
   "id": "cb221a3a-4e6c-44c5-98cc-1acb83fd1574",
   "metadata": {},
   "outputs": [
    {
     "name": "stdout",
     "output_type": "stream",
     "text": [
      "After clearing set1: set()\n"
     ]
    }
   ],
   "source": [
    "# clear()\n",
    "set1.clear()\n",
    "print(\"After clearing set1:\", set1)"
   ]
  },
  {
   "cell_type": "code",
   "execution_count": 5,
   "id": "c7791a43-00fe-41fc-b796-a0b6cf95eb70",
   "metadata": {},
   "outputs": [
    {
     "name": "stdout",
     "output_type": "stream",
     "text": [
      "Copy of set2: {4, 5, 6, 7, 8}\n"
     ]
    }
   ],
   "source": [
    "# copy()\n",
    "set3 = set2.copy()\n",
    "print(\"Copy of set2:\", set3)"
   ]
  },
  {
   "cell_type": "code",
   "execution_count": null,
   "id": "218d6c45",
   "metadata": {},
   "outputs": [],
   "source": [
    "#difference()\n",
    "set2.difference(set3)\n",
    "print(\"it now become\", set2)"
   ]
  },
  {
   "cell_type": "code",
   "execution_count": 8,
   "id": "ec85d8d0-0278-4eca-958d-293a437e4157",
   "metadata": {},
   "outputs": [
    {
     "name": "stdout",
     "output_type": "stream",
     "text": [
      "Difference update set1: {1, 2, 3}\n"
     ]
    }
   ],
   "source": [
    "#difference_update()\n",
    "set1 = {1, 2, 3, 4, 5}\n",
    "set1.difference_update(set2)\n",
    "print(\"Difference update set1:\", set1)"
   ]
  },
  {
   "cell_type": "code",
   "execution_count": 9,
   "id": "19f745c5-1cf8-4cfe-aaa9-aae894a09c76",
   "metadata": {},
   "outputs": [
    {
     "name": "stdout",
     "output_type": "stream",
     "text": [
      "After discarding 8 from set2: {4, 5, 6, 7}\n"
     ]
    }
   ],
   "source": [
    "# discard()\n",
    "set2.discard(8)\n",
    "print(\"After discarding 8 from set2:\", set2)\n"
   ]
  },
  {
   "cell_type": "code",
   "execution_count": 11,
   "id": "ad7624a5-8242-4c4a-a8bf-baff6302f57e",
   "metadata": {},
   "outputs": [
    {
     "name": "stdout",
     "output_type": "stream",
     "text": [
      "Is set1 a subset of set2? False\n"
     ]
    }
   ],
   "source": [
    "#issubset()\n",
    "is_subset = set1.issubset(set2)      #Returns True if every element in the set is in another set\n",
    "print(\"Is set1 a subset of set2?\", is_subset)"
   ]
  },
  {
   "cell_type": "code",
   "execution_count": 12,
   "id": "21b8b82b-56a5-4584-8d23-da417bd8090f",
   "metadata": {},
   "outputs": [
    {
     "name": "stdout",
     "output_type": "stream",
     "text": [
      "Is set2 a superset of set1? False\n"
     ]
    }
   ],
   "source": [
    "#issuperset()\n",
    "is_superset = set2.issuperset(set1)     #Returns True if every element in another set is in the set.\n",
    "print(\"Is set2 a superset of set1?\", is_superset)\n"
   ]
  },
  {
   "cell_type": "code",
   "execution_count": 13,
   "id": "6939fc95-47dd-4474-9596-b3270fba05f5",
   "metadata": {},
   "outputs": [
    {
     "name": "stdout",
     "output_type": "stream",
     "text": [
      "Popped element from set2: 4\n"
     ]
    }
   ],
   "source": [
    "#pop()\n",
    "popped_element = set2.pop()       #specially removes arbitrary element from the set\n",
    "print(\"Popped element from set2:\", popped_element)\n"
   ]
  },
  {
   "cell_type": "code",
   "execution_count": 14,
   "id": "b82f620a-7677-4ecf-aa91-35b4b88c7379",
   "metadata": {},
   "outputs": [
    {
     "name": "stdout",
     "output_type": "stream",
     "text": [
      "After removing 8 from set3: {4, 5, 6, 7}\n"
     ]
    }
   ],
   "source": [
    "#remove()\n",
    "set3.remove(8)    \n",
    "print(\"After removing 8 from set3:\", set3)\n"
   ]
  },
  {
   "cell_type": "code",
   "execution_count": 15,
   "id": "331566b0-0d6d-40c3-8688-b36c3dbaf7a3",
   "metadata": {},
   "outputs": [
    {
     "name": "stdout",
     "output_type": "stream",
     "text": [
      "Symmetric difference between set1 and set2: {1, 2, 3, 5, 6, 7}\n"
     ]
    }
   ],
   "source": [
    "#symmetric_difference()\n",
    "symmetric_difference_set = set1.symmetric_difference(set2)       #Returns the symmetric difference of two sets as a new set.\n",
    "        #here it will return the elements that are in two of the sets but just not same\n",
    "print(\"Symmetric difference between set1 and set2:\", symmetric_difference_set)\n"
   ]
  },
  {
   "cell_type": "code",
   "execution_count": 16,
   "id": "49f5319d-257f-468b-8f01-c5c022b351d3",
   "metadata": {},
   "outputs": [
    {
     "name": "stdout",
     "output_type": "stream",
     "text": [
      "Symmetric difference update set1: {1, 2, 3, 5, 6, 7}\n"
     ]
    }
   ],
   "source": [
    "#symmetric_difference_update()\n",
    "set1.symmetric_difference_update(set2)      #this will give the set1 the elements which were not in it but in the other set\n",
    "print(\"Symmetric difference update set1:\", set1)\n"
   ]
  },
  {
   "cell_type": "code",
   "execution_count": 17,
   "id": "f5bc78c5-d75e-43d3-bc28-3145d3380522",
   "metadata": {},
   "outputs": [
    {
     "name": "stdout",
     "output_type": "stream",
     "text": [
      "Union of set1 and set2: {1, 2, 3, 5, 6, 7}\n"
     ]
    }
   ],
   "source": [
    "#union()\n",
    "union_set = set1.union(set2)\n",
    "print(\"Union of set1 and set2:\", union_set)\n"
   ]
  },
  {
   "cell_type": "code",
   "execution_count": 18,
   "id": "a1c62264-bb13-440a-a3d9-2914b17e9917",
   "metadata": {},
   "outputs": [
    {
     "name": "stdout",
     "output_type": "stream",
     "text": [
      "Update set1 with set2: {1, 2, 3, 5, 6, 7}\n"
     ]
    }
   ],
   "source": [
    "#update()\n",
    "set1.update(set2)\n",
    "print(\"Update set1 with set2:\", set1)"
   ]
  },
  {
   "cell_type": "code",
   "execution_count": null,
   "id": "ca136c08-511e-43b8-b38b-25a4cf172d4b",
   "metadata": {},
   "outputs": [],
   "source": []
  }
 ],
 "metadata": {
  "kernelspec": {
   "display_name": "Python 3 (ipykernel)",
   "language": "python",
   "name": "python3"
  },
  "language_info": {
   "codemirror_mode": {
    "name": "ipython",
    "version": 3
   },
   "file_extension": ".py",
   "mimetype": "text/x-python",
   "name": "python",
   "nbconvert_exporter": "python",
   "pygments_lexer": "ipython3",
   "version": "3.11.7"
  }
 },
 "nbformat": 4,
 "nbformat_minor": 5
}
