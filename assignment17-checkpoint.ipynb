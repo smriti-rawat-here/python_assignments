{
 "cells": [
  {
   "cell_type": "code",
   "execution_count": 2,
   "id": "9734b59f-48a9-41b9-9015-0cc8da3755ed",
   "metadata": {},
   "outputs": [
    {
     "name": "stdout",
     "output_type": "stream",
     "text": [
      "0\n",
      "30\n",
      "18\n"
     ]
    }
   ],
   "source": [
    "'''Question1. Create a function that takes three arguments a, b, c and returns the sum of the\n",
    "numbers that are evenly divided by c from the range a, b inclusive.\n",
    "Examples\n",
    "evenly_divisible(1, 10, 20) ➞ 0\n",
    "# No number between 1 and 10 can be evenly divided by 20.\n",
    "evenly_divisible(1, 10, 2) ➞ 30\n",
    "# 2 + 4 + 6 + 8 + 10 = 30\n",
    "evenly_divisible(1, 10, 3) ➞ 18\n",
    "# 3 + 6 + 9 = 18'''\n",
    "def evenly_divisible(a, b, c):\n",
    "  total = 0\n",
    "  for num in range(a, b+1):\n",
    "      if num % c == 0:\n",
    "          total += num\n",
    "  return total\n",
    "\n",
    "print(evenly_divisible(1, 10, 20)) \n",
    "print(evenly_divisible(1, 10, 2))  \n",
    "print(evenly_divisible(1, 10, 3)) "
   ]
  },
  {
   "cell_type": "code",
   "execution_count": 3,
   "id": "cec826e6-4c9f-44cc-b9ca-3f9c627dd337",
   "metadata": {},
   "outputs": [
    {
     "name": "stdout",
     "output_type": "stream",
     "text": [
      "0\n",
      "30\n",
      "18\n"
     ]
    }
   ],
   "source": [
    "#another method \n",
    "def evenly_divisible(a, b, c):\n",
    "  return sum(num for num in range(a, b+1) if num % c == 0)\n",
    "print(evenly_divisible(1, 10, 20))\n",
    "print(evenly_divisible(1, 10, 2))   \n",
    "print(evenly_divisible(1, 10, 3))  "
   ]
  },
  {
   "cell_type": "code",
   "execution_count": 4,
   "id": "476de77f-c1c5-4f3c-aeee-76b10ec14590",
   "metadata": {},
   "outputs": [
    {
     "name": "stdout",
     "output_type": "stream",
     "text": [
      "True\n",
      "False\n",
      "True\n"
     ]
    }
   ],
   "source": [
    "'''Question2. Create a function that returns True if a given inequality expression is correct and\n",
    "False otherwise.\n",
    "Examples\n",
    "correct_signs(&quot;3 &lt; 7 &lt; 11&quot;) ➞ True\n",
    "correct_signs(&quot;13 &gt; 44 &gt; 33 &gt; 1&quot;) ➞ False\n",
    "correct_signs(&quot;1 &lt; 2 &lt; 6 &lt; 9 &gt; 3&quot;) ➞ True'''\n",
    "def correct_signs(expression):\n",
    "  return eval(expression)     #Python's built-in eval() function. This function evaluates the expression and returns the result.\n",
    "\n",
    "print(correct_signs(\"3 < 7 < 11\"))         \n",
    "print(correct_signs(\"13 > 44 > 33 > 1\"))  \n",
    "print(correct_signs(\"1 < 2 < 6 < 9 > 3\"))  "
   ]
  },
  {
   "cell_type": "code",
   "execution_count": 5,
   "id": "1407a541-ec35-4661-9888-41fbf2c1df53",
   "metadata": {},
   "outputs": [
    {
     "name": "stdout",
     "output_type": "stream",
     "text": [
      "th# ##rdv#rk\n",
      "m?nn?? m??s?\n",
      "sh*k*sp**r*\n"
     ]
    }
   ],
   "source": [
    "'''Question3. Create a function that replaces all the vowels in a string with a specified character.\n",
    "Examples\n",
    "replace_vowels(&quot;the aardvark&quot;, &quot;#&quot;) ➞ &quot;th# ##rdv#rk&quot;\n",
    "replace_vowels(&quot;minnie mouse&quot;, &quot;?&quot;) ➞ &quot;m?nn?? m??s?&quot;\n",
    "replace_vowels(&quot;shakespeare&quot;, &quot;*&quot;) ➞ &quot;sh*k*sp**r*&quot;'''\n",
    "def replace_vowels(string, char):\n",
    "  vowels = 'aeiouAEIOU'\n",
    "  result = ''\n",
    "  for ch in string:\n",
    "      if ch in vowels:\n",
    "          result += char\n",
    "      else:\n",
    "          result += ch\n",
    "  return result\n",
    "print(replace_vowels(\"the aardvark\", \"#\"))   \n",
    "print(replace_vowels(\"minnie mouse\", \"?\"))   \n",
    "print(replace_vowels(\"shakespeare\", \"*\"))   "
   ]
  },
  {
   "cell_type": "code",
   "execution_count": 6,
   "id": "e45211f3-abd9-46c0-825a-c8cd6bbbe6e4",
   "metadata": {},
   "outputs": [
    {
     "name": "stdout",
     "output_type": "stream",
     "text": [
      "120\n",
      "6\n",
      "1\n",
      "1\n"
     ]
    }
   ],
   "source": [
    "'''Question4. Write a function that calculates the factorial of a number recursively.\n",
    "Examples\n",
    "factorial(5) ➞ 120\n",
    "factorial(3) ➞ 6\n",
    "factorial(1) ➞ 1\n",
    "factorial(0) ➞ 1'''\n",
    "def factorial(n):\n",
    "  if n == 0 or n == 1:\n",
    "      return 1\n",
    "  else:\n",
    "      return n * factorial(n - 1)\n",
    "print(factorial(5)) \n",
    "print(factorial(3)) \n",
    "print(factorial(1))  \n",
    "print(factorial(0)) "
   ]
  },
  {
   "cell_type": "code",
   "execution_count": 7,
   "id": "ed2c84a6-c1a0-4ff7-a878-5a1cb1fc56be",
   "metadata": {},
   "outputs": [
    {
     "name": "stdout",
     "output_type": "stream",
     "text": [
      "120\n",
      "6\n",
      "1\n",
      "1\n"
     ]
    }
   ],
   "source": [
    "#or \n",
    "def factorial(n):\n",
    "  result = 1\n",
    "  for i in range(2, n + 1):\n",
    "      result *= i\n",
    "  return result\n",
    "\n",
    "print(factorial(5)) \n",
    "print(factorial(3))  \n",
    "print(factorial(1)) \n",
    "print(factorial(0))  "
   ]
  },
  {
   "cell_type": "code",
   "execution_count": 8,
   "id": "8e77016a-810e-4d92-93bc-c911d61766c8",
   "metadata": {},
   "outputs": [
    {
     "name": "stdout",
     "output_type": "stream",
     "text": [
      "5\n",
      "0\n",
      "1\n"
     ]
    }
   ],
   "source": [
    "'''Question 5\n",
    "Hamming distance is the number of characters that differ between two strings.\n",
    "To illustrate:\n",
    "String1: &quot;abcbba&quot;\n",
    "String2: &quot;abcbda&quot;\n",
    "Hamming Distance: 1 - &quot;b&quot; vs. &quot;d&quot; is the only difference.\n",
    "Create a function that computes the hamming distance between two strings.\n",
    "Examples\n",
    "hamming_distance(&quot;abcde&quot;, &quot;bcdef&quot;) ➞ 5\n",
    "hamming_distance(&quot;abcde&quot;, &quot;abcde&quot;) ➞ 0\n",
    "hamming_distance(&quot;strong&quot;, &quot;strung&quot;) ➞\n",
    "'''\n",
    "def hamming_distance(str1, str2):\n",
    "  if len(str1) != len(str2):\n",
    "      return \"Error: Strings must have equal length\"\n",
    "\n",
    "  distance = 0\n",
    " \n",
    "  for i in range(len(str1)):\n",
    "      if str1[i] != str2[i]:\n",
    "          distance += 1\n",
    "\n",
    "  return distance\n",
    "print(hamming_distance(\"abcde\", \"bcdef\"))    \n",
    "print(hamming_distance(\"abcde\", \"abcde\"))    \n",
    "print(hamming_distance(\"strong\", \"strung\"))  \n"
   ]
  },
  {
   "cell_type": "code",
   "execution_count": 9,
   "id": "3d1d4e2f-df58-4c76-ad88-4851f3974430",
   "metadata": {},
   "outputs": [
    {
     "name": "stdout",
     "output_type": "stream",
     "text": [
      "5\n",
      "0\n",
      "1\n"
     ]
    }
   ],
   "source": [
    "#or \n",
    "def hamming_distance(str1, str2):\n",
    "  return sum(ch1 != ch2 for ch1, ch2 in zip(str1, str2))\n",
    "\n",
    "\n",
    "print(hamming_distance(\"abcde\", \"bcdef\"))   \n",
    "print(hamming_distance(\"abcde\", \"abcde\"))  \n",
    "print(hamming_distance(\"strong\", \"strung\")) \n"
   ]
  },
  {
   "cell_type": "code",
   "execution_count": null,
   "id": "970edeba-081c-4d3d-adde-e4ebe8a0732b",
   "metadata": {},
   "outputs": [],
   "source": []
  }
 ],
 "metadata": {
  "kernelspec": {
   "display_name": "Python 3 (ipykernel)",
   "language": "python",
   "name": "python3"
  },
  "language_info": {
   "codemirror_mode": {
    "name": "ipython",
    "version": 3
   },
   "file_extension": ".py",
   "mimetype": "text/x-python",
   "name": "python",
   "nbconvert_exporter": "python",
   "pygments_lexer": "ipython3",
   "version": "3.11.7"
  }
 },
 "nbformat": 4,
 "nbformat_minor": 5
}
