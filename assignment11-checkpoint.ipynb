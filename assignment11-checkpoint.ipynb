{
 "cells": [
  {
   "cell_type": "code",
   "execution_count": 1,
   "id": "b2739991-2372-4433-a4f3-a54fec882347",
   "metadata": {},
   "outputs": [
    {
     "name": "stdout",
     "output_type": "stream",
     "text": [
      "Words greater than length 4 : ['sample', 'sentence', 'words', 'varying', 'lengths']\n"
     ]
    }
   ],
   "source": [
    "'''1. Write a Python program to find words which are greater than given length k?'''\n",
    "def find_long_words(sentence, k):\n",
    "  words = sentence.split()\n",
    "  long_words = [word for word in words if len(word) > k]\n",
    "  return long_words\n",
    "\n",
    "sentence = \"This is a sample sentence with words of varying lengths\"\n",
    "k = 4\n",
    "print(\"Words greater than length\", k, \":\", find_long_words(sentence, k))"
   ]
  },
  {
   "cell_type": "code",
   "execution_count": 4,
   "id": "70022a05-3d6e-4171-89c3-72cf0c312739",
   "metadata": {},
   "outputs": [
    {
     "name": "stdout",
     "output_type": "stream",
     "text": [
      "After removing 4 -th character: examle\n"
     ]
    }
   ],
   "source": [
    "''''2. Write a Python program for removing i-th character from a string?'''\n",
    "def remove_char(s, i):\n",
    "  return s[:i] + s[i+1:]\n",
    "\n",
    "string = \"example\"\n",
    "i = 4\n",
    "print(\"After removing\", i, \"-th character:\", remove_char(string, i))\n"
   ]
  },
  {
   "cell_type": "code",
   "execution_count": 5,
   "id": "ec939a98-70b5-4379-bb89-6de202761c6d",
   "metadata": {},
   "outputs": [
    {
     "name": "stdout",
     "output_type": "stream",
     "text": [
      "After splitting and joining: This-is-a-sample-string\n"
     ]
    }
   ],
   "source": [
    "'''3. Write a Python program to split and join a string?'''\n",
    "def split_and_join(s):\n",
    "  words = s.split()\n",
    "  return \"-\".join(words)\n",
    "\n",
    "string = \"This is a sample string\"\n",
    "print(\"After splitting and joining:\", split_and_join(string))\n"
   ]
  },
  {
   "cell_type": "code",
   "execution_count": 6,
   "id": "54384c52-bede-4c90-aa9a-de96a415fbd9",
   "metadata": {},
   "outputs": [
    {
     "name": "stdout",
     "output_type": "stream",
     "text": [
      "Is binary? True\n"
     ]
    }
   ],
   "source": [
    "\n",
    "'''4. Write a Python to check if a given string is binary string or not?'''\n",
    "def is_binary_string(s):\n",
    "  return all(char in '01' for char in s)\n",
    "\n",
    "string = \"101010101\"\n",
    "print(\"Is binary?\", is_binary_string(string))\n"
   ]
  },
  {
   "cell_type": "code",
   "execution_count": 7,
   "id": "a8ece1b9-566e-41d1-8bf0-6a15997dfab4",
   "metadata": {},
   "outputs": [
    {
     "name": "stdout",
     "output_type": "stream",
     "text": [
      "Uncommon words: {'second', 'first'}\n"
     ]
    }
   ],
   "source": [
    "'''5. Write a Python program to find uncommon words from two Strings?'''\n",
    "def find_uncommon_words(s1, s2):\n",
    "  words1 = set(s1.split())\n",
    "  words2 = set(s2.split())\n",
    "  return words1.symmetric_difference(words2)\n",
    "\n",
    "string1 = \"This is the first string\"\n",
    "string2 = \"This is the second string\"\n",
    "print(\"Uncommon words:\", find_uncommon_words(string1, string2))"
   ]
  },
  {
   "cell_type": "code",
   "execution_count": 8,
   "id": "da747113-4f72-490e-8afe-a947e4ee6edb",
   "metadata": {},
   "outputs": [
    {
     "name": "stdout",
     "output_type": "stream",
     "text": [
      "Duplicate characters: ['e']\n"
     ]
    }
   ],
   "source": [
    "'''6. Write a Python to find all duplicate characters in string?'''\n",
    "def find_duplicates(s):\n",
    "  duplicates = []\n",
    "  for char in set(s):\n",
    "      if s.count(char) > 1:\n",
    "          duplicates.append(char)\n",
    "  return duplicates\n",
    "\n",
    "string = \"example\"\n",
    "print(\"Duplicate characters:\", find_duplicates(string))"
   ]
  },
  {
   "cell_type": "code",
   "execution_count": 9,
   "id": "3fb2cef3-1e2b-4bb3-bc35-78c35d4a16f7",
   "metadata": {},
   "outputs": [
    {
     "name": "stdout",
     "output_type": "stream",
     "text": [
      "Contains special characters? True\n"
     ]
    }
   ],
   "source": [
    "'''7. Write a Python Program to check if a string contains any special character?'''\n",
    "import re\n",
    "\n",
    "def has_special_characters(s):\n",
    "    special_characters = re.compile('[@_!#$%^&*()<>?/\\|}{~:]')\n",
    "    return special_characters.search(s) is not None\n",
    "\n",
    "string = \"example@\"\n",
    "print(\"Contains special characters?\", has_special_characters(string))\n"
   ]
  },
  {
   "cell_type": "code",
   "execution_count": null,
   "id": "d8183096-f9d2-4c14-ab87-dbf9ada088ea",
   "metadata": {},
   "outputs": [],
   "source": []
  }
 ],
 "metadata": {
  "kernelspec": {
   "display_name": "Python 3 (ipykernel)",
   "language": "python",
   "name": "python3"
  },
  "language_info": {
   "codemirror_mode": {
    "name": "ipython",
    "version": 3
   },
   "file_extension": ".py",
   "mimetype": "text/x-python",
   "name": "python",
   "nbconvert_exporter": "python",
   "pygments_lexer": "ipython3",
   "version": "3.11.7"
  }
 },
 "nbformat": 4,
 "nbformat_minor": 5
}
