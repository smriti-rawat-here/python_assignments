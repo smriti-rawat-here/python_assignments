{
 "cells": [
  {
   "cell_type": "code",
   "execution_count": 1,
   "id": "06b32865-1282-4e1f-be71-e1b707670a27",
   "metadata": {},
   "outputs": [
    {
     "name": "stdout",
     "output_type": "stream",
     "text": [
      "{1, 2, 3}\n"
     ]
    }
   ],
   "source": [
    "'''1. Write a Python program to Extract Unique values dictionary values?'''\n",
    "def unique_dictionary_values(dictionary):\n",
    "  unique_values = set()\n",
    "  for value in dictionary.values():\n",
    "      if isinstance(value, list):\n",
    "          unique_values.update(value)\n",
    "      else:\n",
    "          unique_values.add(value)\n",
    "  return unique_values\n",
    "\n",
    "my_dict = {'a': 1, 'b': 2, 'c': [1, 2, 3]}\n",
    "unique_values = unique_dictionary_values(my_dict)\n",
    "print(unique_values)"
   ]
  },
  {
   "cell_type": "code",
   "execution_count": 2,
   "id": "6dda9ad0-41ad-403b-b519-01a53caa35c1",
   "metadata": {},
   "outputs": [
    {
     "name": "stdout",
     "output_type": "stream",
     "text": [
      "60\n"
     ]
    }
   ],
   "source": [
    "'''2. Write a Python program to find the sum of all items in a dictionary?'''\n",
    "def sum_dictionary_items(dictionary):\n",
    "  return sum(dictionary.values())\n",
    "\n",
    "my_dict = {'a': 10, 'b': 20, 'c': 30}\n",
    "total_sum = sum_dictionary_items(my_dict)\n",
    "print(total_sum)"
   ]
  },
  {
   "cell_type": "code",
   "execution_count": 3,
   "id": "93cfddeb-918a-4b34-b79c-72f5a9dfe92c",
   "metadata": {},
   "outputs": [
    {
     "name": "stdout",
     "output_type": "stream",
     "text": [
      "{'a': 1, 'b': 2, 'c': 3}\n"
     ]
    }
   ],
   "source": [
    "'''4. Write a Python program to convert key-values list to flat dictionary?'''\n",
    "def list_to_flat_dict(key_value_list):\n",
    "  flat_dict = {}\n",
    "  for key, value in key_value_list:\n",
    "      flat_dict[key] = value\n",
    "  return flat_dict\n",
    "\n",
    "key_value_list = [('a', 1), ('b', 2), ('c', 3)]\n",
    "flat_dict = list_to_flat_dict(key_value_list)\n",
    "print(flat_dict)"
   ]
  },
  {
   "cell_type": "code",
   "execution_count": 7,
   "id": "3f2c94cb-623e-432f-9803-590f07fbe10d",
   "metadata": {},
   "outputs": [
    {
     "data": {
      "text/plain": [
       "'5. Write a Python program to insertion at the beginning in OrderedDict?'"
      ]
     },
     "execution_count": 7,
     "metadata": {},
     "output_type": "execute_result"
    }
   ],
   "source": [
    "'''5. Write a Python program to insertion at the beginning in OrderedDict?'''\n"
   ]
  },
  {
   "cell_type": "code",
   "execution_count": 8,
   "id": "b0ad63ae-ffd9-4e8c-9e56-9e2ae59a86da",
   "metadata": {},
   "outputs": [
    {
     "name": "stdout",
     "output_type": "stream",
     "text": [
      "{'a': 1, 'b': 2, 'c': 3, 'd': 4}\n"
     ]
    }
   ],
   "source": [
    "'''3. Write a Python program to Merging two Dictionaries?'''\n",
    "def merge_dictionaries(dict1, dict2):\n",
    "  merged_dict = dict1.copy()\n",
    "  merged_dict.update(dict2)\n",
    "  return merged_dict\n",
    "    \n",
    "dict1 = {'a': 1, 'b': 2}\n",
    "dict2 = {'c': 3, 'd': 4}\n",
    "merged_dict = merge_dictionaries(dict1, dict2)\n",
    "print(merged_dict)\n",
    "\n"
   ]
  },
  {
   "cell_type": "code",
   "execution_count": 9,
   "id": "54b29db4-295a-4266-b944-fe126aa09143",
   "metadata": {},
   "outputs": [
    {
     "name": "stdout",
     "output_type": "stream",
     "text": [
      "True\n"
     ]
    }
   ],
   "source": [
    "'''6. Write a Python program to check order of character in string using OrderedDict()?'''\n",
    "from collections import OrderedDict\n",
    "\n",
    "def check_order_of_characters(string, pattern):\n",
    "    pattern_dict = OrderedDict.fromkeys(pattern)\n",
    "    j = 0\n",
    "    for key in pattern_dict:\n",
    "        if key in string[j:]:\n",
    "            j = string.index(key, j) + 1\n",
    "        else:\n",
    "            return False\n",
    "    return True\n",
    "\n",
    "string = \"engineers rock\"\n",
    "pattern = \"egr\"\n",
    "print(check_order_of_characters(string, pattern))"
   ]
  },
  {
   "cell_type": "code",
   "execution_count": 10,
   "id": "3fb2908a-f274-4bea-8356-aba2de5b7028",
   "metadata": {},
   "outputs": [
    {
     "name": "stdout",
     "output_type": "stream",
     "text": [
      "Sorted by key: {'a': 3, 'b': 2, 'c': 1}\n",
      "Sorted by value: {'c': 1, 'b': 2, 'a': 3}\n"
     ]
    }
   ],
   "source": [
    "'''7. Write a Python program to sort Python Dictionaries by Key or Value?'''\n",
    "def sort_dict_by_key(dictionary):\n",
    "  return dict(sorted(dictionary.items()))\n",
    "\n",
    "def sort_dict_by_value(dictionary):\n",
    "  return dict(sorted(dictionary.items(), key=lambda item: item[1]))\n",
    "\n",
    "my_dict = {'a': 3, 'c': 1, 'b': 2}\n",
    "sorted_by_key = sort_dict_by_key(my_dict)\n",
    "sorted_by_value = sort_dict_by_value(my_dict)\n",
    "print(\"Sorted by key:\", sorted_by_key)\n",
    "print(\"Sorted by value:\", sorted_by_value)\n"
   ]
  },
  {
   "cell_type": "code",
   "execution_count": null,
   "id": "46c797b4-192b-4ecc-9719-612e31a6fea1",
   "metadata": {},
   "outputs": [],
   "source": []
  }
 ],
 "metadata": {
  "kernelspec": {
   "display_name": "Python 3 (ipykernel)",
   "language": "python",
   "name": "python3"
  },
  "language_info": {
   "codemirror_mode": {
    "name": "ipython",
    "version": 3
   },
   "file_extension": ".py",
   "mimetype": "text/x-python",
   "name": "python",
   "nbconvert_exporter": "python",
   "pygments_lexer": "ipython3",
   "version": "3.11.7"
  }
 },
 "nbformat": 4,
 "nbformat_minor": 5
}
