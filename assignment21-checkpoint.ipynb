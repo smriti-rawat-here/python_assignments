{
 "cells": [
  {
   "cell_type": "code",
   "execution_count": 1,
   "id": "212907f6-79fc-44f2-87c7-0e8e05069692",
   "metadata": {},
   "outputs": [
    {
     "name": "stdout",
     "output_type": "stream",
     "text": [
      "[6, 7, 8, 9, 1]\n"
     ]
    }
   ],
   "source": [
    "'''Question1\n",
    "Write a function that takes a list and a number as arguments. Add the number to the end of\n",
    "the list, then remove the first element of the list. The function should then return the updated\n",
    "list.\n",
    "Examples\n",
    "next_in_line([5, 6, 7, 8, 9], 1) ➞ [6, 7, 8, 9, 1]'''\n",
    "def next_in_line(lst, num):\n",
    "  if lst:\n",
    "      lst.pop(0)\n",
    "      lst.append(num)\n",
    "  return lst\n",
    "print(next_in_line([5, 6, 7, 8, 9], 1))  "
   ]
  },
  {
   "cell_type": "code",
   "execution_count": 2,
   "id": "99e2e47c-189f-49c6-bc26-a8d79915bf13",
   "metadata": {},
   "outputs": [
    {
     "name": "stdout",
     "output_type": "stream",
     "text": [
      "65700\n"
     ]
    }
   ],
   "source": [
    "'''Question2\n",
    "Create the function that takes a list of dictionaries and returns the sum of people&#39;s budgets.\n",
    "Examples\n",
    "get_budgets([\n",
    "{ &quot;name&quot;: &quot;John&quot;, &quot;age&quot;: 21, &quot;budget&quot;: 23000 },\n",
    "{ &quot;name&quot;: &quot;Steve&quot;, &quot;age&quot;: 32, &quot;budget&quot;: 40000 },\n",
    "{ &quot;name&quot;: &quot;Martin&quot;, &quot;age&quot;: 16, &quot;budget&quot;: 2700 }\n",
    "]) ➞ 65700'''\n",
    "def get_budgets(lst):\n",
    "  total_budget = 0\n",
    "  for person in lst:\n",
    "      total_budget += person['budget']\n",
    "  return total_budget\n",
    "print(get_budgets([\n",
    "  { \"name\": \"smriti\", \"age\": 24, \"budget\": 23000 },\n",
    "  { \"name\": \"vaishali\", \"age\": 24, \"budget\": 40000 },\n",
    "  { \"name\": \"yashika\", \"age\": 23, \"budget\": 2700 }\n",
    "]))  "
   ]
  },
  {
   "cell_type": "code",
   "execution_count": 3,
   "id": "b5aad809-5257-424b-840a-2b795af1fb43",
   "metadata": {},
   "outputs": [
    {
     "name": "stdout",
     "output_type": "stream",
     "text": [
      "aartw\n"
     ]
    }
   ],
   "source": [
    "'''Question3\n",
    "Create a function that takes a string and returns a string with its letters in alphabetical order.\n",
    "Examples\n",
    "alphabet_soup(&quot;hello&quot;) ➞ &quot;ehllo&quot;'''\n",
    "def alphabet_soup(text):\n",
    "  chars = list(text)\n",
    "  chars.sort()\n",
    "  sorted_text = ''.join(chars)\n",
    "  return sorted_text\n",
    "print(alphabet_soup(\"rawat\")) \n"
   ]
  },
  {
   "cell_type": "code",
   "execution_count": 4,
   "id": "a2b82fb7-73e7-43a6-b580-e5bfff9b57e4",
   "metadata": {},
   "outputs": [
    {
     "data": {
      "text/plain": [
       "'Question4\\nSuppose that you invest $10,000 for 10 years at an interest rate of 6% compounded monthly.\\nWhat will be the value of your investment at the end of the 10 year period?\\nCreate a function that accepts the principal p, the term in years t, the interest rate r, and the\\nnumber of compounding periods per year n. The function returns the value at the end of term\\nrounded to the nearest cent.\\nFor the example above:\\ncompound_interest(10000, 10, 0.06, 12) ➞ 18193.97\\nNote that the interest rate is given as a decimal and n=12 because with monthly compounding\\nthere are 12 periods per year. Compounding can also be done annually, quarterly, weekly, or\\ndaily.\\nExamples\\ncompound_interest(100, 1, 0.05, 1) ➞ 105.0'"
      ]
     },
     "execution_count": 4,
     "metadata": {},
     "output_type": "execute_result"
    }
   ],
   "source": [
    "'''Question4\n",
    "Suppose that you invest $10,000 for 10 years at an interest rate of 6% compounded monthly.\n",
    "What will be the value of your investment at the end of the 10 year period?\n",
    "Create a function that accepts the principal p, the term in years t, the interest rate r, and the\n",
    "number of compounding periods per year n. The function returns the value at the end of term\n",
    "rounded to the nearest cent.\n",
    "For the example above:\n",
    "compound_interest(10000, 10, 0.06, 12) ➞ 18193.97\n",
    "Note that the interest rate is given as a decimal and n=12 because with monthly compounding\n",
    "there are 12 periods per year. Compounding can also be done annually, quarterly, weekly, or\n",
    "daily.\n",
    "Examples\n",
    "compound_interest(100, 1, 0.05, 1) ➞ 105.0'''\n"
   ]
  },
  {
   "cell_type": "code",
   "execution_count": 5,
   "id": "1f353997-c928-4a0c-b9c2-f43dc98dc8cd",
   "metadata": {},
   "outputs": [
    {
     "name": "stdout",
     "output_type": "stream",
     "text": [
      "[9, 2, 16]\n"
     ]
    }
   ],
   "source": [
    "\n",
    "'''Question5\n",
    "Write a function that takes a list of elements and returns only the integers.\n",
    "Examples\n",
    "return_only_integer([9, 2, &quot;space&quot;, &quot;car&quot;, &quot;lion&quot;, 16]) ➞ [9, 2, 16]'''\n",
    "def return_only_integer(lst):\n",
    "  return list(filter(lambda x: isinstance(x, int), lst))\n",
    "print(return_only_integer([9, 2, \"space\", \"car\", \"lion\", 16]))  \n"
   ]
  },
  {
   "cell_type": "code",
   "execution_count": null,
   "id": "81ed3be3-a0cd-4d21-888c-61054d833ee9",
   "metadata": {},
   "outputs": [],
   "source": []
  }
 ],
 "metadata": {
  "kernelspec": {
   "display_name": "Python 3 (ipykernel)",
   "language": "python",
   "name": "python3"
  },
  "language_info": {
   "codemirror_mode": {
    "name": "ipython",
    "version": 3
   },
   "file_extension": ".py",
   "mimetype": "text/x-python",
   "name": "python",
   "nbconvert_exporter": "python",
   "pygments_lexer": "ipython3",
   "version": "3.11.7"
  }
 },
 "nbformat": 4,
 "nbformat_minor": 5
}
