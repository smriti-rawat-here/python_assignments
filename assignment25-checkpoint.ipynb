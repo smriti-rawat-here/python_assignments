{
 "cells": [
  {
   "cell_type": "code",
   "execution_count": 1,
   "id": "ec3d55f9-d431-4a36-aa2c-44a496ae6a16",
   "metadata": {},
   "outputs": [
    {
     "name": "stdout",
     "output_type": "stream",
     "text": [
      "1\n",
      "1\n",
      "0\n"
     ]
    }
   ],
   "source": [
    "'''Question1\n",
    "Create a function that takes three integer arguments (a, b, c) and returns the amount of\n",
    "integers which are of equal value.\n",
    "Examples\n",
    "equal(3, 4, 3) ➞ 2\n",
    "equal(1, 1, 1) ➞ 3\n",
    "equal(3, 4, 1) ➞ 0\n",
    "Notes\n",
    "Your function must return 0, 2 or 3.'''\n",
    "def equal(a, b, c):\n",
    "\n",
    "  count_dict = {}\n",
    "  \n",
    "  count_dict[a] = count_dict.get(a, 0) + 1\n",
    "  count_dict[b] = count_dict.get(b, 0) + 1\n",
    "  count_dict[c] = count_dict.get(c, 0) + 1\n",
    "\n",
    "  count = 0\n",
    "  for key in count_dict:\n",
    "      if count_dict[key] > 1:\n",
    "          count += 1\n",
    "\n",
    "  return count\n",
    "\n",
    "print(equal(3, 4, 3))  \n",
    "print(equal(1, 1, 1))  \n",
    "print(equal(3, 4, 1))  "
   ]
  },
  {
   "cell_type": "code",
   "execution_count": 2,
   "id": "0e7ff8f1-f4af-453c-a382-45d7070ee80a",
   "metadata": {},
   "outputs": [
    {
     "name": "stdout",
     "output_type": "stream",
     "text": [
      "[('a', 1), ('b', 2), ('c', 3)]\n"
     ]
    }
   ],
   "source": [
    "'''Question2\n",
    "Write a function that converts a dictionary into a list of keys-values tuples.\n",
    "NOTE: return the elements in the list in alphabetic order'''\n",
    "def dict_to_sorted_tuples(d):\n",
    "  items = list(d.items())\n",
    "  sorted_items = sorted(items, key=lambda x: x[0])\n",
    "\n",
    "  return sorted_items\n",
    "\n",
    "my_dict = {'b': 2, 'a': 1, 'c': 3}\n",
    "sorted_tuples = dict_to_sorted_tuples(my_dict)\n",
    "print(sorted_tuples)  "
   ]
  },
  {
   "cell_type": "code",
   "execution_count": 3,
   "id": "d401e21c-3ad2-426b-ad43-19da2c6059d0",
   "metadata": {},
   "outputs": [
    {
     "name": "stdout",
     "output_type": "stream",
     "text": [
      "{'a': 'A', 'b': 'B', 'c': 'C', 'd': 'D'}\n"
     ]
    }
   ],
   "source": [
    "'''write a function that creates a dictionary with each (key, value) pair being the (lower case,\n",
    "upper case) versions of a letter, respectively.  NOTE All of the letters in the input list will always be lowercase.'''\n",
    "def create_letter_dictionary(lowercase_letters):\n",
    "  letter_dict = {}\n",
    "\n",
    "  for letter in lowercase_letters:\n",
    "    \n",
    "      letter_dict[letter] = letter.upper()\n",
    "\n",
    "  return letter_dict\n",
    "\n",
    "letters = ['a', 'b', 'c', 'd']\n",
    "result_dict = create_letter_dictionary(letters)\n",
    "print(result_dict)"
   ]
  },
  {
   "cell_type": "code",
   "execution_count": 4,
   "id": "cc7137dc-0a45-4ce5-b5d6-f0b24286c5c8",
   "metadata": {},
   "outputs": [
    {
     "name": "stdout",
     "output_type": "stream",
     "text": [
      "Smr*t* R*w*t\n"
     ]
    }
   ],
   "source": [
    "'''Write a function, that replaces all vowels in a string with a specified vowel.'''\n",
    "def replace_vowels(input_string, specified_vowel):\n",
    "  vowels = 'aeiouAEIOU'\n",
    "  output_string = []\n",
    "\n",
    "  for char in input_string:\n",
    "      if char in vowels:\n",
    "          output_string.append(specified_vowel)\n",
    "      else:\n",
    "          output_string.append(char)\n",
    "\n",
    "  return ''.join(output_string)\n",
    "\n",
    "input_str = \"Smriti Rawat\"\n",
    "specified_vowel = '*'\n",
    "modified_str = replace_vowels(input_str, specified_vowel)\n",
    "print(modified_str)  \n"
   ]
  },
  {
   "cell_type": "code",
   "execution_count": 5,
   "id": "d460de39-8227-4654-ba1d-df964104f15b",
   "metadata": {},
   "outputs": [
    {
     "name": "stdout",
     "output_type": "stream",
     "text": [
      "THis is PyTHoN \n"
     ]
    }
   ],
   "source": [
    "'''Create a function that takes a string as input and capitalizes a letter if its ASCII code is even\n",
    "and returns its lower case version if its ASCII code is odd.'''\n",
    "def modify_characters(input_string):\n",
    "  modified_string = []\n",
    "\n",
    "  for char in input_string:\n",
    "      ascii_value = ord(char)\n",
    "\n",
    "      if ascii_value % 2 == 0:\n",
    "          modified_string.append(char.upper())\n",
    "      else:\n",
    "          modified_string.append(char.lower())\n",
    "\n",
    "  return ''.join(modified_string)\n",
    "\n",
    "input_str = \"this is python \"\n",
    "modified_str = modify_characters(input_str)\n",
    "print(modified_str)  \n"
   ]
  },
  {
   "cell_type": "code",
   "execution_count": null,
   "id": "0af9540c-a99f-4423-8b74-6384243d89c3",
   "metadata": {},
   "outputs": [],
   "source": []
  }
 ],
 "metadata": {
  "kernelspec": {
   "display_name": "Python 3 (ipykernel)",
   "language": "python",
   "name": "python3"
  },
  "language_info": {
   "codemirror_mode": {
    "name": "ipython",
    "version": 3
   },
   "file_extension": ".py",
   "mimetype": "text/x-python",
   "name": "python",
   "nbconvert_exporter": "python",
   "pygments_lexer": "ipython3",
   "version": "3.11.7"
  }
 },
 "nbformat": 4,
 "nbformat_minor": 5
}
