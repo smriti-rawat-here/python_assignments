{
 "cells": [
  {
   "cell_type": "code",
   "execution_count": 1,
   "id": "00cbeaf5-71d4-4812-af1a-d8fb4562b124",
   "metadata": {},
   "outputs": [
    {
     "name": "stdout",
     "output_type": "stream",
     "text": [
      "[1, 2, 3]\n"
     ]
    }
   ],
   "source": [
    "#Create a function that takes a list of non-negative integers and strings and return a new list without the strings. \n",
    "def remove_strings(lst):\n",
    "  return [x for x in lst if isinstance(x, int)]\n",
    "mixed_list = [1, 'apple', 2, 'banana', 3, 'carrot']\n",
    "result = remove_strings(mixed_list)\n",
    "print(result)"
   ]
  },
  {
   "cell_type": "code",
   "execution_count": 2,
   "id": "3028d85c-0d08-4790-bd40-0adf73bfeef3",
   "metadata": {},
   "outputs": [
    {
     "name": "stdout",
     "output_type": "stream",
     "text": [
      "!DLROw OLLEh\n"
     ]
    }
   ],
   "source": [
    "#Reverser takes a string as input and returns that string in reverse order, with the opposite case.\n",
    "def reverser(input_string):\n",
    "  return input_string[::-1].swapcase()\n",
    "input_str = \"Hello World!\"\n",
    "output_str = reverser(input_str)\n",
    "print(output_str) "
   ]
  },
  {
   "cell_type": "code",
   "execution_count": 4,
   "id": "58e84aa9-909c-4570-9221-5d9fee63d0a8",
   "metadata": {},
   "outputs": [
    {
     "name": "stdout",
     "output_type": "stream",
     "text": [
      "1\n",
      "[2, 3, 4, 5]\n",
      "6\n"
     ]
    }
   ],
   "source": [
    "'''You can assign variables from lists like this:\n",
    "first = lst[0]\n",
    "middle = lst[1:-1]\n",
    "last = lst[-1]\n",
    "print(first) ➞ outputs 1\n",
    "print(middle) ➞ outputs [2, 3, 4, 5]\n",
    "print(last) ➞ outputs 6\n",
    "With Python 3, you can assign variables from lists in a much more succinct way. Create\n",
    "variables first, middle and last from the given list using destructuring assignment\n",
    "(check the Resources tab for some examples), where:\n",
    "first ➞ 1\n",
    "middle ➞ [2, 3, 4, 5]\n",
    "last ➞ 6'''\n",
    "lst = [1, 2, 3, 4, 5, 6]\n",
    "\n",
    "first, *middle, last = lst\n",
    "print(first) \n",
    "print(middle)  \n",
    "print(last)  \n"
   ]
  },
  {
   "cell_type": "code",
   "execution_count": 6,
   "id": "a2436a71-600d-4581-960c-5b676d4ccbd2",
   "metadata": {},
   "outputs": [
    {
     "name": "stdout",
     "output_type": "stream",
     "text": [
      "The factorial of 5 is 120\n"
     ]
    }
   ],
   "source": [
    "#Write a function that calculates the factorial of a number recursively.\n",
    "def factorial(n):\n",
    "  if n == 0:\n",
    "      return 1\n",
    "  else:\n",
    "      return n * factorial(n - 1)\n",
    "\n",
    "number = 5\n",
    "result = factorial(number)\n",
    "print(f\"The factorial of {number} is {result}\")  "
   ]
  },
  {
   "cell_type": "code",
   "execution_count": 7,
   "id": "2d9d1224-54c3-414e-a510-e29d3621ab7d",
   "metadata": {},
   "outputs": [
    {
     "name": "stdout",
     "output_type": "stream",
     "text": [
      "The factorial of 5 is 120\n"
     ]
    }
   ],
   "source": [
    "#another method for the same \n",
    "def factorial(n):\n",
    "  return 1 if n == 0 else n * factorial(n - 1)\n",
    "\n",
    "number = 5\n",
    "result = factorial(number)\n",
    "print(f\"The factorial of {number} is {result}\") "
   ]
  },
  {
   "cell_type": "code",
   "execution_count": 10,
   "id": "a7899737-976f-4adf-a0ad-f415384628e0",
   "metadata": {},
   "outputs": [],
   "source": [
    "#Write a function that moves all elements of one type to the end of the list."
   ]
  },
  {
   "cell_type": "code",
   "execution_count": 9,
   "id": "62bfa309-1240-49b0-8e4b-460d7d954fa8",
   "metadata": {},
   "outputs": [
    {
     "name": "stdout",
     "output_type": "stream",
     "text": [
      "[1, 2, 3, 'apple', 'banana', 'apple', 'carrot']\n"
     ]
    }
   ],
   "source": [
    "\n",
    "def move_elements_to_end(lst, element_type):\n",
    "    return [x for x in lst if type(x) != element_type] + [x for x in lst if type(x) == element_type]\n",
    "\n",
    "# Example usage:\n",
    "my_list = [1, 'apple', 2, 'banana', 3, 'apple', 'carrot']\n",
    "element_type = str\n",
    "result = move_elements_to_end(my_list, element_type)\n",
    "print(result)\n"
   ]
  },
  {
   "cell_type": "code",
   "execution_count": null,
   "id": "a9d6380a-a70e-409b-8bbc-440cbf0aaa63",
   "metadata": {},
   "outputs": [],
   "source": []
  }
 ],
 "metadata": {
  "kernelspec": {
   "display_name": "Python 3 (ipykernel)",
   "language": "python",
   "name": "python3"
  },
  "language_info": {
   "codemirror_mode": {
    "name": "ipython",
    "version": 3
   },
   "file_extension": ".py",
   "mimetype": "text/x-python",
   "name": "python",
   "nbconvert_exporter": "python",
   "pygments_lexer": "ipython3",
   "version": "3.11.7"
  }
 },
 "nbformat": 4,
 "nbformat_minor": 5
}
