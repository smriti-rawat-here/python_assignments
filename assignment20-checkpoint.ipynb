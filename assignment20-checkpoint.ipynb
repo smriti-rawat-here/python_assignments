{
 "cells": [
  {
   "cell_type": "code",
   "execution_count": 1,
   "id": "156a5896-d832-42a0-99bc-c9cb2e96d573",
   "metadata": {},
   "outputs": [
    {
     "name": "stdout",
     "output_type": "stream",
     "text": [
      "[3, 7]\n"
     ]
    }
   ],
   "source": [
    "'''Create a function that takes a list of strings and integers, and filters out the list so that it\n",
    "returns a list of integers only.'''\n",
    "def filter_integers(input_list):\n",
    " return [x for x in input_list if isinstance(x,int)]\n",
    "input_list1 = [\"apple\", 3, \"banana\", 7, \"cherry\"]\n",
    "print(filter_integers(input_list1))"
   ]
  },
  {
   "cell_type": "code",
   "execution_count": 2,
   "id": "51701526-1246-4e89-bd08-b77ecc86270b",
   "metadata": {},
   "outputs": [
    {
     "data": {
      "text/plain": [
       "'Given a list of numbers, create a function which returns the list but with each element&#39;s\\nindex in the list added to itself. This means you add 0 to the number at index 0, add 1 to the\\nnumber at index 1, etc...'"
      ]
     },
     "execution_count": 2,
     "metadata": {},
     "output_type": "execute_result"
    }
   ],
   "source": [
    "'''Given a list of numbers, create a function which returns the list but with each element&#39;s\n",
    "index in the list added to itself. This means you add 0 to the number at index 0, add 1 to the\n",
    "number at index 1, etc...'''\n"
   ]
  },
  {
   "cell_type": "code",
   "execution_count": 3,
   "id": "adbd9fdf-2e33-4203-9a58-154d8c20e757",
   "metadata": {},
   "outputs": [
    {
     "data": {
      "text/plain": [
       "'Create a function that takes the height and radius of a cone as arguments and returns the\\nvolume of the cone rounded to the nearest hundredth. See the resources tab for the formula.'"
      ]
     },
     "execution_count": 3,
     "metadata": {},
     "output_type": "execute_result"
    }
   ],
   "source": [
    "'''Create a function that takes the height and radius of a cone as arguments and returns the\n",
    "volume of the cone rounded to the nearest hundredth. See the resources tab for the formula.'''\n"
   ]
  },
  {
   "cell_type": "code",
   "execution_count": 4,
   "id": "3edf68f7-34b3-48cb-9152-d8657a327761",
   "metadata": {},
   "outputs": [
    {
     "name": "stdout",
     "output_type": "stream",
     "text": [
      "1\n",
      "3\n",
      "6\n",
      "10\n",
      "15\n"
     ]
    }
   ],
   "source": [
    "'''This Triangular Number Sequence is generated from a pattern of dots that form a triangle.\n",
    "The first 5 numbers of the sequence, or dots, are: 1, 3, 6, 10, 15\n",
    "This means that the first triangle has just one dot, the second one has three dots, the third one\n",
    "has 6 dots and so on.\n",
    "Write a function that gives the number of dots with its corresponding triangle number of the\n",
    "sequence.'''\n",
    "def triangular_number(n):\n",
    "  if n <= 0:\n",
    "      return 0\n",
    "  return n * (n + 1) // 2\n",
    "\n",
    "\n",
    "print(triangular_number(1))  \n",
    "print(triangular_number(2))  \n",
    "print(triangular_number(3))  \n",
    "print(triangular_number(4))  \n",
    "print(triangular_number(5))  "
   ]
  },
  {
   "cell_type": "code",
   "execution_count": 5,
   "id": "aead58eb-fd08-472a-9497-1863a09d4107",
   "metadata": {},
   "outputs": [
    {
     "name": "stdout",
     "output_type": "stream",
     "text": [
      "5\n"
     ]
    }
   ],
   "source": [
    "'''Create a function that takes a list of numbers between 1 and 10 (excluding one number) and\n",
    "returns the missing number.'''\n",
    "def find_missing_number(nums):\n",
    "  n = 10 \n",
    "  expected_sum = n * (n + 1) // 2  # sum of natural numbers\n",
    "\n",
    "  actual_sum = sum(nums)  # sum of the numbers in the list\n",
    "  missing_number = expected_sum - actual_sum\n",
    "\n",
    "  return missing_number\n",
    "\n",
    "print(find_missing_number([1, 2, 3, 4, 6, 7, 8, 9, 10]))  \n"
   ]
  },
  {
   "cell_type": "code",
   "execution_count": null,
   "id": "c8a7c3ec-c384-4b5b-ac20-91f443ae34ee",
   "metadata": {},
   "outputs": [],
   "source": []
  }
 ],
 "metadata": {
  "kernelspec": {
   "display_name": "Python 3 (ipykernel)",
   "language": "python",
   "name": "python3"
  },
  "language_info": {
   "codemirror_mode": {
    "name": "ipython",
    "version": 3
   },
   "file_extension": ".py",
   "mimetype": "text/x-python",
   "name": "python",
   "nbconvert_exporter": "python",
   "pygments_lexer": "ipython3",
   "version": "3.11.7"
  }
 },
 "nbformat": 4,
 "nbformat_minor": 5
}
