{
 "cells": [
  {
   "cell_type": "code",
   "execution_count": 1,
   "id": "10b5f48a-2cd0-4f90-9f2c-1fe69bd1a88b",
   "metadata": {},
   "outputs": [
    {
     "name": "stdout",
     "output_type": "stream",
     "text": [
      "[1, 2, 3, 40]\n",
      "[1, 2, 3, 40, 5, 6, 7, 80]\n"
     ]
    }
   ],
   "source": [
    "'''Question1 python\n",
    "Create a function that takes an integer and returns a list from 1 to the given number, where:\n",
    "\n",
    "If the number can be divided evenly by 4, amplify it by 10 (i.e. return 10 times the\n",
    "number).\n",
    "If the number cannot be divided evenly by 4, simply return the number.'''\n",
    "def amplify(numbers):\n",
    "  result = []\n",
    "  for num in range(1, numbers + 1):\n",
    "      if num % 4 == 0:\n",
    "          result.append(num * 10)\n",
    "      else:\n",
    "          result.append(num)\n",
    "  return result\n",
    "\n",
    "print(amplify(4))  \n",
    "print(amplify(8))  "
   ]
  },
  {
   "cell_type": "code",
   "execution_count": 2,
   "id": "973f3dbb-cebe-4bb3-a04c-bad399f5faad",
   "metadata": {},
   "outputs": [
    {
     "name": "stdout",
     "output_type": "stream",
     "text": [
      "1\n"
     ]
    }
   ],
   "source": [
    "'''Create a function that takes a list of numbers and return the number that's unique.'''\n",
    "def find_unique_number(numbers):\n",
    "  count = {}\n",
    "  for num in numbers:\n",
    "      if num in count:\n",
    "          count[num] += 1\n",
    "      else:\n",
    "          count[num] = 1\n",
    "\n",
    "  for num, occurrences in count.items():\n",
    "      if occurrences == 1:\n",
    "          return num\n",
    "\n",
    "\n",
    "print(find_unique_number([1, 2, 2, 3, 3]))  \n"
   ]
  },
  {
   "cell_type": "code",
   "execution_count": 3,
   "id": "64100363-05aa-499f-b921-c42de248aafe",
   "metadata": {},
   "outputs": [
    {
     "data": {
      "text/plain": [
       "'Question3\\nYour task is to create a Circle constructor that creates a circle with a radius provided by an\\nargument. The circles constructed must have two getters getArea() (PIr^2) and\\ngetPerimeter() (2PI*r) which give both respective areas and perimeter (circumference).'"
      ]
     },
     "execution_count": 3,
     "metadata": {},
     "output_type": "execute_result"
    }
   ],
   "source": [
    "'''Question3\n",
    "Your task is to create a Circle constructor that creates a circle with a radius provided by an\n",
    "argument. The circles constructed must have two getters getArea() (PIr^2) and\n",
    "getPerimeter() (2PI*r) which give both respective areas and perimeter (circumference).'''"
   ]
  },
  {
   "cell_type": "code",
   "execution_count": 4,
   "id": "3bdbc9bc-d4de-478e-b259-ce98a22e355d",
   "metadata": {},
   "outputs": [
    {
     "name": "stdout",
     "output_type": "stream",
     "text": [
      "['fig', 'date', 'apple', 'banana', 'cherry']\n"
     ]
    }
   ],
   "source": [
    "'''Create a function that takes a list of strings and return a list, sorted from shortest to longest.'''\n",
    "def sort_strings_by_length(strings):\n",
    "  sorted_strings = sorted(strings, key=len)\n",
    "  return sorted_strings\n",
    "\n",
    "string_list = [\"apple\", \"banana\", \"cherry\", \"date\", \"fig\"]\n",
    "sorted_list = sort_strings_by_length(string_list)\n",
    "print(sorted_list)  "
   ]
  },
  {
   "cell_type": "code",
   "execution_count": 5,
   "id": "4499a446-ba1d-493a-9b8d-593012868616",
   "metadata": {},
   "outputs": [
    {
     "name": "stdout",
     "output_type": "stream",
     "text": [
      "True\n"
     ]
    }
   ],
   "source": [
    "'''Create a function that validates whether three given integers form a Pythagorean triplet. The\n",
    "sum of the squares of the two smallest integers must equal the square of the largest number to\n",
    "be validated.'''\n",
    "def is_pythagorean_triplet(a, b, c):\n",
    "  \n",
    "  x, y, z = sorted([a, b, c])\n",
    "  if x**2 + y**2 == z**2:\n",
    "      return True\n",
    "  else:\n",
    "      return False\n",
    "print(is_pythagorean_triplet(3, 4, 5))   \n"
   ]
  },
  {
   "cell_type": "code",
   "execution_count": null,
   "id": "06362bbf-1228-4076-af0f-eeb568a1f598",
   "metadata": {},
   "outputs": [],
   "source": []
  }
 ],
 "metadata": {
  "kernelspec": {
   "display_name": "Python 3 (ipykernel)",
   "language": "python",
   "name": "python3"
  },
  "language_info": {
   "codemirror_mode": {
    "name": "ipython",
    "version": 3
   },
   "file_extension": ".py",
   "mimetype": "text/x-python",
   "name": "python",
   "nbconvert_exporter": "python",
   "pygments_lexer": "ipython3",
   "version": "3.11.7"
  }
 },
 "nbformat": 4,
 "nbformat_minor": 5
}
