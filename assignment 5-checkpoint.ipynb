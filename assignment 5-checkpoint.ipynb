{
 "cells": [
  {
   "cell_type": "code",
   "execution_count": 1,
   "id": "82aa5db3-bfcf-4fd9-9345-381d835697b7",
   "metadata": {},
   "outputs": [],
   "source": [
    "#assignment 5 "
   ]
  },
  {
   "cell_type": "code",
   "execution_count": 2,
   "id": "bc6a6290-9dfe-463f-91a2-8f6ccc803dac",
   "metadata": {},
   "outputs": [
    {
     "name": "stdin",
     "output_type": "stream",
     "text": [
      "Enter first number:  65\n",
      "Enter second number:  68\n"
     ]
    },
    {
     "name": "stdout",
     "output_type": "stream",
     "text": [
      "The LCM of 65 and 68 is 4420\n"
     ]
    }
   ],
   "source": [
    "#write a python program to find the lcm \n",
    "\n",
    "import math\n",
    "\n",
    "num1 = int(input(\"Enter first number: \"))\n",
    "num2 = int(input(\"Enter second number: \"))\n",
    "\n",
    "lcm = (num1 * num2) // math.gcd(num1, num2)\n",
    "\n",
    "print(\"The LCM of\", num1, \"and\", num2, \"is\", lcm)\n"
   ]
  },
  {
   "cell_type": "code",
   "execution_count": 3,
   "id": "161e53af-add1-45d7-ba5f-4c11f949ee31",
   "metadata": {},
   "outputs": [
    {
     "name": "stdin",
     "output_type": "stream",
     "text": [
      "Enter first number:  77\n",
      "Enter second number:  98\n"
     ]
    },
    {
     "name": "stdout",
     "output_type": "stream",
     "text": [
      "The HCF of 77 and 98 is 7\n"
     ]
    }
   ],
   "source": [
    "#write a python program to find hcf \n",
    "import math\n",
    "\n",
    "num1 = int(input(\"Enter first number: \"))\n",
    "num2 = int(input(\"Enter second number: \"))\n",
    "\n",
    "hcf = math.gcd(num1, num2)\n",
    "print(\"The HCF of\", num1, \"and\", num2, \"is\", hcf)"
   ]
  },
  {
   "cell_type": "code",
   "execution_count": 4,
   "id": "a2b209eb-fdfb-4b40-8040-82153e55a61d",
   "metadata": {},
   "outputs": [
    {
     "name": "stdin",
     "output_type": "stream",
     "text": [
      "Enter a decimal number:  10978790\n"
     ]
    },
    {
     "name": "stdout",
     "output_type": "stream",
     "text": [
      "Decimal: 10978790\n",
      "Binary: 0b101001111000010111100110\n",
      "Octal: 0o51702746\n",
      "Hexadecimal: 0xa785e6\n"
     ]
    }
   ],
   "source": [
    "#write a python program to convert a decimal to binary, octal and hexadecimal\n",
    "dec_num = int(input(\"Enter a decimal number: \"))\n",
    "\n",
    "binary_num = bin(dec_num)\n",
    "octal_num = oct(dec_num)\n",
    "hexadecimal_num = hex(dec_num)\n",
    "\n",
    "print(\"Decimal:\", dec_num)\n",
    "print(\"Binary:\", binary_num)\n",
    "print(\"Octal:\", octal_num)\n",
    "print(\"Hexadecimal:\", hexadecimal_num)\n"
   ]
  },
  {
   "cell_type": "code",
   "execution_count": 10,
   "id": "cfd66a01-eac9-46e4-b037-3e16be21a3b9",
   "metadata": {},
   "outputs": [
    {
     "name": "stdout",
     "output_type": "stream",
     "text": [
      "Select operation:\n",
      "1. Addition\n",
      "2. Subtraction\n",
      "3. Multiplication\n",
      "4. Division\n"
     ]
    },
    {
     "name": "stdin",
     "output_type": "stream",
     "text": [
      "Enter choice (1/2/3/4):  3\n",
      "Enter first number:  67\n",
      "Enter second number:  76\n"
     ]
    },
    {
     "name": "stdout",
     "output_type": "stream",
     "text": [
      "Result: 5092.0\n"
     ]
    }
   ],
   "source": [
    "#write a python program to make a simple calculator with 4 basic mathematical operations\n",
    "print(\"Select operation:\")\n",
    "print(\"1. Addition\")\n",
    "print(\"2. Subtraction\")\n",
    "print(\"3. Multiplication\")\n",
    "print(\"4. Division\")\n",
    "choice = input(\"Enter choice (1/2/3/4): \")\n",
    "\n",
    "\n",
    "num1 = float(input(\"Enter first number: \"))\n",
    "num2 = float(input(\"Enter second number: \"))\n",
    "\n",
    "if choice == '1':\n",
    "    result = num1 + num2\n",
    "elif choice == '2':\n",
    "    result = num1 - num2\n",
    "elif choice == '3':\n",
    "    result = num1 * num2\n",
    "elif choice == '4':\n",
    "    if num2 == 0:\n",
    "        result = \"Error! Division by zero is not allowed.\"\n",
    "    else:\n",
    "        result = num1 / num2\n",
    "else:\n",
    "    result = \"Invalid choice\"\n",
    "\n",
    "print(\"Result:\", result)\n",
    "\n"
   ]
  },
  {
   "cell_type": "code",
   "execution_count": null,
   "id": "841bdaee-2c9e-4d85-9b0a-c146435b0a04",
   "metadata": {},
   "outputs": [],
   "source": []
  }
 ],
 "metadata": {
  "kernelspec": {
   "display_name": "Python 3 (ipykernel)",
   "language": "python",
   "name": "python3"
  },
  "language_info": {
   "codemirror_mode": {
    "name": "ipython",
    "version": 3
   },
   "file_extension": ".py",
   "mimetype": "text/x-python",
   "name": "python",
   "nbconvert_exporter": "python",
   "pygments_lexer": "ipython3",
   "version": "3.11.7"
  }
 },
 "nbformat": 4,
 "nbformat_minor": 5
}
