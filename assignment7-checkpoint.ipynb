{
 "cells": [
  {
   "cell_type": "code",
   "execution_count": 3,
   "id": "f3ff8594-b7a5-4f1b-98e0-e9d64091b70a",
   "metadata": {},
   "outputs": [
    {
     "name": "stdout",
     "output_type": "stream",
     "text": [
      "The sum of the array is: 15\n"
     ]
    }
   ],
   "source": [
    "#assignment 7 \n",
    "#wite a python program to find the sum of an array\n",
    "array = [1, 2, 3, 4, 5]\n",
    "array_sum = sum(array)\n",
    "print(\"The sum of the array is:\", array_sum)"
   ]
  },
  {
   "cell_type": "code",
   "execution_count": 4,
   "id": "73c2d0d8-ef1b-4eec-a0d4-17a0487867f9",
   "metadata": {},
   "outputs": [
    {
     "name": "stdout",
     "output_type": "stream",
     "text": [
      "The largest element in the array is: 9\n"
     ]
    }
   ],
   "source": [
    "#write a python program to find the largest element in an array\n",
    "array = [5, 9, 3, 7, 2, 8]\n",
    "largest = max(array)\n",
    "print(\"The largest element in the array is:\", largest)\n"
   ]
  },
  {
   "cell_type": "code",
   "execution_count": 5,
   "id": "0ce26691-e8b1-4db4-b415-5d4e8033d67a",
   "metadata": {},
   "outputs": [
    {
     "name": "stdout",
     "output_type": "stream",
     "text": [
      "Original array: [1, 2, 3, 4, 5]\n",
      "After splitting and adding: [3, 4, 5, 1, 2]\n"
     ]
    }
   ],
   "source": [
    "#write a python program for array rotation\n",
    "#write a python program to split the array and add the first part to the end \n",
    "def split_and_add(arr, split_index):\n",
    "  return arr[split_index:] + arr[:split_index]\n",
    "\n",
    "array = [1, 2, 3, 4, 5]\n",
    "result_array = split_and_add(array, 2)\n",
    "print(\"Original array:\", array)\n",
    "print(\"After splitting and adding:\", result_array)"
   ]
  },
  {
   "cell_type": "code",
   "execution_count": 6,
   "id": "e08415e9-88ce-4220-99b1-c8f4f3dd5dfb",
   "metadata": {},
   "outputs": [
    {
     "name": "stdout",
     "output_type": "stream",
     "text": [
      "Array 1 is monotonic: True\n",
      "Array 2 is monotonic: True\n",
      "Array 3 is monotonic: False\n"
     ]
    }
   ],
   "source": [
    "#write a python program to check if given array is monotonic\n",
    "def is_monotonic(arr):\n",
    "  return all(arr[i] <= arr[i + 1] for i in range(len(arr) - 1)) or \\\n",
    "         all(arr[i] >= arr[i + 1] for i in range(len(arr) - 1))\n",
    "\n",
    "array1 = [1, 2, 3, 4, 5]\n",
    "array2 = [5, 4, 3, 2, 1]\n",
    "array3 = [1, 3, 2, 4, 5]\n",
    "\n",
    "print(\"Array 1 is monotonic:\", is_monotonic(array1))\n",
    "print(\"Array 2 is monotonic:\", is_monotonic(array2))\n",
    "print(\"Array 3 is monotonic:\", is_monotonic(array3))\n"
   ]
  },
  {
   "cell_type": "code",
   "execution_count": null,
   "id": "1af4063f-7f18-472a-98d3-3925019496e7",
   "metadata": {},
   "outputs": [],
   "source": []
  }
 ],
 "metadata": {
  "kernelspec": {
   "display_name": "Python 3 (ipykernel)",
   "language": "python",
   "name": "python3"
  },
  "language_info": {
   "codemirror_mode": {
    "name": "ipython",
    "version": 3
   },
   "file_extension": ".py",
   "mimetype": "text/x-python",
   "name": "python",
   "nbconvert_exporter": "python",
   "pygments_lexer": "ipython3",
   "version": "3.11.7"
  }
 },
 "nbformat": 4,
 "nbformat_minor": 5
}
