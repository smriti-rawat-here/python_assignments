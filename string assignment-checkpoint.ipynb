{
 "cells": [
  {
   "cell_type": "code",
   "execution_count": null,
   "id": "72e62d3f-9ac3-4250-bb9e-cb5acf57946d",
   "metadata": {},
   "outputs": [],
   "source": [
    "     # assignment 2 (20 questions of string) request: i have tried to do the questions one by one but some may vary for that i have added comments"
   ]
  },
  {
   "cell_type": "code",
   "execution_count": 3,
   "id": "1cd207ae-b2a0-4ca4-841b-4d4a4ac2910f",
   "metadata": {},
   "outputs": [
    {
     "name": "stdout",
     "output_type": "stream",
     "text": [
      "7337\n"
     ]
    }
   ],
   "source": [
    "join_method = string1.join(string2)#use of join aperator \n",
    "print (join_method)"
   ]
  },
  {
   "cell_type": "code",
   "execution_count": 1,
   "id": "fbec7d7d-d42d-4ff1-b405-82c0cb900604",
   "metadata": {},
   "outputs": [
    {
     "name": "stdout",
     "output_type": "stream",
     "text": [
      "3377\n"
     ]
    }
   ],
   "source": [
    "string1 = \"33\"\n",
    "string2 = \"77\"\n",
    "print (string1 + string2) #how to conacatenate two stings and use of + operator"
   ]
  },
  {
   "cell_type": "code",
   "execution_count": 5,
   "id": "09239eba-6368-4f2f-93a1-61e41894e533",
   "metadata": {},
   "outputs": [
    {
     "data": {
      "text/plain": [
       "6"
      ]
     },
     "execution_count": 5,
     "metadata": {},
     "output_type": "execute_result"
    }
   ],
   "source": [
    "string_3 = \"Smriti\"  \n",
    "len(string_3)     #to check the length of a string\n"
   ]
  },
  {
   "cell_type": "code",
   "execution_count": 6,
   "id": "354b2f73-155b-4c52-aa2f-71c20578bbb7",
   "metadata": {},
   "outputs": [
    {
     "data": {
      "text/plain": [
       "'i'"
      ]
     },
     "execution_count": 6,
     "metadata": {},
     "output_type": "execute_result"
    }
   ],
   "source": [
    "string_3[3]  #to see and acsess individual character of a string "
   ]
  },
  {
   "cell_type": "code",
   "execution_count": 9,
   "id": "aaea5d7a-bbe8-4839-adf9-27b74a780832",
   "metadata": {},
   "outputs": [
    {
     "name": "stdout",
     "output_type": "stream",
     "text": [
      "SMRITI\n"
     ]
    }
   ],
   "source": [
    "print(string_3.upper())  #uppercase"
   ]
  },
  {
   "cell_type": "code",
   "execution_count": 10,
   "id": "84176b42-d029-42cb-b742-91be9b048529",
   "metadata": {},
   "outputs": [
    {
     "name": "stdout",
     "output_type": "stream",
     "text": [
      "smriti\n"
     ]
    }
   ],
   "source": [
    "print(string_3.lower())    #lowercase"
   ]
  },
  {
   "cell_type": "code",
   "execution_count": 15,
   "id": "7fa15f13-46d8-422f-b87b-171be58f929a",
   "metadata": {},
   "outputs": [
    {
     "name": "stdout",
     "output_type": "stream",
     "text": [
      "smriti rawat\n"
     ]
    }
   ],
   "source": [
    "string_4 = \"smriti rawat\"\n",
    "print(string_4)"
   ]
  },
  {
   "cell_type": "code",
   "execution_count": 17,
   "id": "97ac6be1-bc75-4c8f-8b90-abf08116d78f",
   "metadata": {},
   "outputs": [
    {
     "name": "stdout",
     "output_type": "stream",
     "text": [
      "smriti Rawat\n"
     ]
    }
   ],
   "source": [
    "print(string_4.replace(\"rawat\", \"Rawat\"))      # replace the word rawat ny Rawat"
   ]
  },
  {
   "cell_type": "code",
   "execution_count": 18,
   "id": "36576dd7-6841-48d6-bb6d-c5eebe6fd772",
   "metadata": {},
   "outputs": [
    {
     "name": "stdout",
     "output_type": "stream",
     "text": [
      "['This', 'is', 'a', '5th', 'string']\n"
     ]
    }
   ],
   "source": [
    "string_5 = \"This is a 5th string\"\n",
    "print(string_5.split())                        #split method to get substrings"
   ]
  },
  {
   "cell_type": "code",
   "execution_count": 20,
   "id": "64b70166-bc59-4a49-92a4-2484f56793c4",
   "metadata": {},
   "outputs": [
    {
     "name": "stdout",
     "output_type": "stream",
     "text": [
      "True\n"
     ]
    }
   ],
   "source": [
    "print(string_5.startswith(\"This\"))    #to check id my sting starts with the desired word given already "
   ]
  },
  {
   "cell_type": "code",
   "execution_count": 21,
   "id": "3d62fcfe-d0b3-4e37-b8d7-c275a1c22782",
   "metadata": {},
   "outputs": [
    {
     "name": "stdout",
     "output_type": "stream",
     "text": [
      "True\n"
     ]
    }
   ],
   "source": [
    "print(string_5.endswith(\"string\"))  #to check if my string send with a desired word given already "
   ]
  },
  {
   "cell_type": "code",
   "execution_count": 22,
   "id": "a5e85de1-9107-473b-b7e1-065ec5644b34",
   "metadata": {},
   "outputs": [
    {
     "name": "stdout",
     "output_type": "stream",
     "text": [
      "    hie there!    \n"
     ]
    }
   ],
   "source": [
    "string_6 = \"    hie there!    \"       \n",
    "print(string_6) "
   ]
  },
  {
   "cell_type": "code",
   "execution_count": 24,
   "id": "a1e102e1-2c6e-44be-a7b5-0a536ec5b353",
   "metadata": {},
   "outputs": [
    {
     "name": "stdout",
     "output_type": "stream",
     "text": [
      "hie there!\n"
     ]
    }
   ],
   "source": [
    "print(string_6.strip())  #to remove leading and trailing widespaced "
   ]
  },
  {
   "cell_type": "code",
   "execution_count": 30,
   "id": "d8cdef09-90fe-4bd6-bb3b-b51ee12e40da",
   "metadata": {},
   "outputs": [
    {
     "name": "stdout",
     "output_type": "stream",
     "text": [
      "4\n"
     ]
    }
   ],
   "source": [
    "print(string_6.index(\"hie\"))   #to check index of a substring  "
   ]
  },
  {
   "cell_type": "code",
   "execution_count": 34,
   "id": "c9fbe176-e04b-4aba-b0aa-8cef6f8ce918",
   "metadata": {},
   "outputs": [
    {
     "name": "stdout",
     "output_type": "stream",
     "text": [
      "4\n"
     ]
    }
   ],
   "source": [
    "string_7 = \"Goooogle\"\n",
    "print(string_7.count(\"o\"))   #to count how many times a substring occured"
   ]
  },
  {
   "cell_type": "code",
   "execution_count": 35,
   "id": "8a6a6f61-6d59-4f23-a89a-33d43aad58ed",
   "metadata": {},
   "outputs": [
    {
     "name": "stdout",
     "output_type": "stream",
     "text": [
      "True\n"
     ]
    }
   ],
   "source": [
    "print(string_7.isalpha())    #to check if string only contains alphabetic characters"
   ]
  },
  {
   "cell_type": "code",
   "execution_count": 36,
   "id": "107c9461-8c51-4ed1-b2ca-da325cdfb744",
   "metadata": {},
   "outputs": [
    {
     "name": "stdout",
     "output_type": "stream",
     "text": [
      "False\n"
     ]
    }
   ],
   "source": [
    "print(string_7.isnumeric())   #to check if string has only numberic characters"
   ]
  },
  {
   "cell_type": "code",
   "execution_count": 39,
   "id": "89717f03-6ea2-4b5a-a63f-a911b08d88cb",
   "metadata": {},
   "outputs": [
    {
     "name": "stdout",
     "output_type": "stream",
     "text": [
      "gOOOOGLE\n"
     ]
    }
   ],
   "source": [
    "print(string_7.swapcase())   #to make upper as lower and lower as upper basically reverse"
   ]
  },
  {
   "cell_type": "code",
   "execution_count": 45,
   "id": "fbddaa20-0496-4003-8334-7d1ae71704a2",
   "metadata": {},
   "outputs": [
    {
     "name": "stdout",
     "output_type": "stream",
     "text": [
      "mriti,\n"
     ]
    }
   ],
   "source": [
    "string_8 = \"smriti, is a good girl!\"    #use splicing method to get a particlar part of sring \n",
    "substring = string_8[1:7]\n",
    "print(substring)\n"
   ]
  },
  {
   "cell_type": "code",
   "execution_count": 48,
   "id": "16e9224a-62c4-4594-b978-2a5f3a7dccc8",
   "metadata": {},
   "outputs": [
    {
     "name": "stdout",
     "output_type": "stream",
     "text": [
      "['smriti', ' is a good girl!']\n"
     ]
    }
   ],
   "source": [
    "result = string_8.split(',')        #spliting using delimiter\n",
    "print(result)"
   ]
  },
  {
   "cell_type": "code",
   "execution_count": 56,
   "id": "97f8bde3-f8a6-4e8b-9bf9-592f74c82bd8",
   "metadata": {},
   "outputs": [
    {
     "name": "stdout",
     "output_type": "stream",
     "text": [
      "False\n",
      "True\n"
     ]
    }
   ],
   "source": [
    "def is_palindrome(string):  #make a function firstto check if our sting is palindrome\n",
    "    # Remove spaces and convert to lowercase for case-insensitive comparison\n",
    "    string = string.replace(\" \", \"\").lower()\n",
    "    # Compare the string with its reverse\n",
    "    return string == string[::-1]\n",
    "\n",
    "#lets test now\n",
    "print(is_palindrome(\"smriti\")) \n",
    "print(is_palindrome(\"malayalam\"))\n"
   ]
  },
  {
   "cell_type": "code",
   "execution_count": 60,
   "id": "d7a64276-a9a5-4a89-8bdc-39a9527d3ca9",
   "metadata": {},
   "outputs": [
    {
     "name": "stdout",
     "output_type": "stream",
     "text": [
      "gniod uoy woh\n"
     ]
    }
   ],
   "source": [
    "def reverse_string (s):  #create a function to reverse a string \n",
    "    return s[::-1]\n",
    "\n",
    "\n",
    "original_string = \"how you doing\"    # lets call it and take care of indentation \n",
    "reversed_string = reverse_string(original_string)\n",
    "print(reversed_string)"
   ]
  },
  {
   "cell_type": "code",
   "execution_count": 62,
   "id": "3e4c5744-d4c4-4e94-829b-d746ce78e790",
   "metadata": {},
   "outputs": [
    {
     "name": "stdout",
     "output_type": "stream",
     "text": [
      "my name is smriti and my age is 25\n"
     ]
    }
   ],
   "source": [
    "name = \"smriti\"   #formatting of a string \n",
    "age = \"25\"\n",
    "\n",
    "format_string = f\"my name is {name} and my age is {age}\"\n",
    "print(format_string)\n"
   ]
  },
  {
   "cell_type": "code",
   "execution_count": null,
   "id": "f056db7e-1fd2-41f9-b71f-52ed5b5c245a",
   "metadata": {},
   "outputs": [],
   "source": []
  }
 ],
 "metadata": {
  "kernelspec": {
   "display_name": "Python 3 (ipykernel)",
   "language": "python",
   "name": "python3"
  },
  "language_info": {
   "codemirror_mode": {
    "name": "ipython",
    "version": 3
   },
   "file_extension": ".py",
   "mimetype": "text/x-python",
   "name": "python",
   "nbconvert_exporter": "python",
   "pygments_lexer": "ipython3",
   "version": "3.11.7"
  }
 },
 "nbformat": 4,
 "nbformat_minor": 5
}
