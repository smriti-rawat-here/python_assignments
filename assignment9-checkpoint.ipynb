{
 "cells": [
  {
   "cell_type": "code",
   "execution_count": 1,
   "id": "b3e45487-f73a-49c4-b279-0d5335cae168",
   "metadata": {},
   "outputs": [
    {
     "name": "stdin",
     "output_type": "stream",
     "text": [
      "Enter a number:  55\n"
     ]
    },
    {
     "name": "stdout",
     "output_type": "stream",
     "text": [
      "55 is not a Disarium number.\n"
     ]
    }
   ],
   "source": [
    "'''1.Write a Python program to check if the given number is a Disarium Number?'''\n",
    "def is_disarium(num):\n",
    "  num_str = str(num)\n",
    "  disarium_sum = sum(int(digit) ** (index + 1) for index, digit in enumerate(num_str))\n",
    "  return disarium_sum == num\n",
    "\n",
    "num = int(input(\"Enter a number: \"))\n",
    "if is_disarium(num):\n",
    "  print(num, \"is a Disarium number.\")\n",
    "else:\n",
    "  print(num, \"is not a Disarium number.\")\n"
   ]
  },
  {
   "cell_type": "code",
   "execution_count": 2,
   "id": "a7d11050-b760-4564-a201-a60b5bc3f542",
   "metadata": {},
   "outputs": [
    {
     "name": "stdout",
     "output_type": "stream",
     "text": [
      "Disarium numbers between 1 and 100:\n",
      "1\n",
      "2\n",
      "3\n",
      "4\n",
      "5\n",
      "6\n",
      "7\n",
      "8\n",
      "9\n",
      "89\n"
     ]
    }
   ],
   "source": [
    "'''2. Write a Python program to print all disarium numbers between 1 to 100?'''\n",
    "def is_disarium(num):\n",
    "  num_str = str(num)\n",
    "  disarium_sum = sum(int(digit) ** (index + 1) for index, digit in enumerate(num_str))\n",
    "  return disarium_sum == num\n",
    "\n",
    "print(\"Disarium numbers between 1 and 100:\")\n",
    "for i in range(1, 101):\n",
    "  if is_disarium(i):\n",
    "      print(i)\n"
   ]
  },
  {
   "cell_type": "code",
   "execution_count": 3,
   "id": "f0e0f943-0187-4544-b38e-ce0a295f7bde",
   "metadata": {},
   "outputs": [
    {
     "name": "stdin",
     "output_type": "stream",
     "text": [
      "Enter a number:  66\n"
     ]
    },
    {
     "name": "stdout",
     "output_type": "stream",
     "text": [
      "66 is not a Happy number.\n"
     ]
    }
   ],
   "source": [
    "\n",
    "'''3. Write a Python program to check if the given number is Happy Number?'''\n",
    "def is_happy(num):\n",
    "  seen = set()\n",
    "  while num != 1 and num not in seen:\n",
    "      seen.add(num)\n",
    "      num = sum(int(digit)**2 for digit in str(num))\n",
    "  return num == 1\n",
    "\n",
    "num = int(input(\"Enter a number: \"))\n",
    "if is_happy(num):\n",
    "  print(num, \"is a Happy number.\")\n",
    "else:\n",
    "  print(num, \"is not a Happy number.\")"
   ]
  },
  {
   "cell_type": "code",
   "execution_count": 4,
   "id": "af4656a5-88eb-46c5-aab9-46f702b1b95d",
   "metadata": {},
   "outputs": [
    {
     "name": "stdout",
     "output_type": "stream",
     "text": [
      "Happy numbers between 1 and 100:\n",
      "1\n",
      "7\n",
      "10\n",
      "13\n",
      "19\n",
      "23\n",
      "28\n",
      "31\n",
      "32\n",
      "44\n",
      "49\n",
      "68\n",
      "70\n",
      "79\n",
      "82\n",
      "86\n",
      "91\n",
      "94\n",
      "97\n",
      "100\n"
     ]
    }
   ],
   "source": [
    "'''4. Write a Python program to print all happy numbers between 1 and 100?'''\n",
    "def is_happy(num):\n",
    "  seen = set()\n",
    "  while num != 1 and num not in seen:\n",
    "      seen.add(num)\n",
    "      num = sum(int(digit)**2 for digit in str(num))\n",
    "  return num == 1\n",
    "\n",
    "print(\"Happy numbers between 1 and 100:\")\n",
    "for i in range(1, 101):\n",
    "  if is_happy(i):\n",
    "      print(i)"
   ]
  },
  {
   "cell_type": "code",
   "execution_count": 5,
   "id": "36797323-d4e8-4633-906d-6b947d511186",
   "metadata": {},
   "outputs": [
    {
     "name": "stdin",
     "output_type": "stream",
     "text": [
      "Enter a number:  65\n"
     ]
    },
    {
     "name": "stdout",
     "output_type": "stream",
     "text": [
      "65 is not a Harshad number.\n"
     ]
    }
   ],
   "source": [
    "'''5. Write a Python program to determine whether the given number is a Harshad Number?'''\n",
    "def is_harshad(num):\n",
    "  return num % sum(int(digit) for digit in str(num)) == 0\n",
    "\n",
    "num = int(input(\"Enter a number: \"))\n",
    "if is_harshad(num):\n",
    "  print(num, \"is a Harshad number.\")\n",
    "else:\n",
    "  print(num, \"is not a Harshad number.\")"
   ]
  },
  {
   "cell_type": "code",
   "execution_count": 6,
   "id": "f918d2b3-d2ae-4c24-af99-2f7ab50f9d68",
   "metadata": {},
   "outputs": [
    {
     "name": "stdout",
     "output_type": "stream",
     "text": [
      "Pronic numbers between 1 and 100:\n",
      "2\n",
      "6\n",
      "12\n",
      "20\n",
      "30\n",
      "42\n",
      "56\n",
      "72\n",
      "90\n"
     ]
    }
   ],
   "source": [
    "'''6. Write a Python program to print all pronic numbers between 1 and 100?'''\n",
    "def is_pronic(num):\n",
    "  for i in range(num):\n",
    "      if i * (i + 1) == num:\n",
    "          return True\n",
    "  return False\n",
    "\n",
    "print(\"Pronic numbers between 1 and 100:\")\n",
    "for i in range(1, 101):\n",
    "  if is_pronic(i):\n",
    "      print(i)\n"
   ]
  },
  {
   "cell_type": "code",
   "execution_count": null,
   "id": "76d31268-c7e3-4646-b8e0-e196f238e8f4",
   "metadata": {},
   "outputs": [],
   "source": []
  }
 ],
 "metadata": {
  "kernelspec": {
   "display_name": "Python 3 (ipykernel)",
   "language": "python",
   "name": "python3"
  },
  "language_info": {
   "codemirror_mode": {
    "name": "ipython",
    "version": 3
   },
   "file_extension": ".py",
   "mimetype": "text/x-python",
   "name": "python",
   "nbconvert_exporter": "python",
   "pygments_lexer": "ipython3",
   "version": "3.11.7"
  }
 },
 "nbformat": 4,
 "nbformat_minor": 5
}
