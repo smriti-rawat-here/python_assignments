{
 "cells": [
  {
   "cell_type": "code",
   "execution_count": 4,
   "id": "4d3ce0ff-25eb-46e5-99b3-968574a7f539",
   "metadata": {},
   "outputs": [
    {
     "name": "stdout",
     "output_type": "stream",
     "text": [
      "Resultant Matrix:\n",
      "[[20 10 10]\n",
      " [10 13  9]\n",
      " [10 17 10]]\n"
     ]
    }
   ],
   "source": [
    "#assignment 8 \n",
    "#write a python program to add two matrices\n",
    "import numpy as np\n",
    "\n",
    "def add_matrices(matrix1, matrix2):\n",
    "    return np.array(matrix1) + np.array(matrix2)\n",
    "\n",
    "matrix1 = [[1, 2, 3],\n",
    "           [4, 5, 6],\n",
    "           [7, 8, 9]]\n",
    "\n",
    "matrix2 = [[19, 8, 7],\n",
    "           [6, 8, 3],\n",
    "           [3, 9, 1]]\n",
    "result_matrix = add_matrices(matrix1, matrix2)\n",
    "print(\"Resultant Matrix:\")\n",
    "print(result_matrix)"
   ]
  },
  {
   "cell_type": "code",
   "execution_count": 5,
   "id": "cea20884-a9bd-466c-bfdd-b4225be181b5",
   "metadata": {},
   "outputs": [
    {
     "name": "stdout",
     "output_type": "stream",
     "text": [
      "Resultant Matrix:\n",
      "[[ 30  24  18]\n",
      " [ 84  69  54]\n",
      " [138 114  90]]\n"
     ]
    }
   ],
   "source": [
    "#write a python program to multiply two matrices\n",
    "import numpy as np\n",
    "\n",
    "def multiply_matrices(matrix1, matrix2):\n",
    "    return np.dot(matrix1, matrix2)\n",
    "matrix1 = [[1, 2, 3],\n",
    "           [4, 5, 6],\n",
    "           [7, 8, 9]]\n",
    "\n",
    "matrix2 = [[9, 8, 7],\n",
    "           [6, 5, 4],\n",
    "           [3, 2, 1]]\n",
    "\n",
    "result_matrix = multiply_matrices(matrix1, matrix2)\n",
    "\n",
    "print(\"Resultant Matrix:\")\n",
    "print(result_matrix)"
   ]
  },
  {
   "cell_type": "code",
   "execution_count": 6,
   "id": "0b1cbb98-4086-4a45-a77c-a8cbd6162953",
   "metadata": {},
   "outputs": [
    {
     "name": "stdout",
     "output_type": "stream",
     "text": [
      "Original Matrix:\n",
      "[1, 2, 3]\n",
      "[4, 5, 6]\n",
      "[7, 8, 9]\n",
      "\n",
      "Transpose of Matrix:\n",
      "[1, 4, 7]\n",
      "[2, 5, 8]\n",
      "[3, 6, 9]\n"
     ]
    }
   ],
   "source": [
    "#write a python program to find the transpose of a matrix\n",
    "import numpy as np\n",
    "\n",
    "def transpose_matrix(matrix):\n",
    "    \n",
    "    np_matrix = np.array(matrix)\n",
    "    transpose = np.transpose(np_matrix)   \n",
    "    transpose = transpose.tolist()\n",
    "\n",
    "    return transpose\n",
    "\n",
    "\n",
    "matrix = [[1, 2, 3],\n",
    "          [4, 5, 6],\n",
    "          [7, 8, 9]]\n",
    "\n",
    "transpose = transpose_matrix(matrix)\n",
    "print(\"Original Matrix:\")\n",
    "for row in matrix:\n",
    "    print(row)\n",
    "\n",
    "print(\"\\nTranspose of Matrix:\")\n",
    "for row in transpose:\n",
    "    print(row)"
   ]
  },
  {
   "cell_type": "code",
   "execution_count": 8,
   "id": "42870573-0f26-4c55-abda-fc50df4313c1",
   "metadata": {},
   "outputs": [
    {
     "name": "stdout",
     "output_type": "stream",
     "text": [
      "Sorted Words:\n",
      "a\n",
      "am\n",
      "become\n",
      "developer\n",
      "hie\n",
      "i\n",
      "to\n",
      "web\n"
     ]
    }
   ],
   "source": [
    "#write a python program to sort words in alphabetic order\n",
    "# Example sentence\n",
    "sentence = \"hie  i am to become a web developer\"\n",
    "sorted_words = sorted(sentence.split())\n",
    "print(\"Sorted Words:\")\n",
    "for word in sorted_words:\n",
    "    print(word)"
   ]
  },
  {
   "cell_type": "code",
   "execution_count": null,
   "id": "4a6e7cd3-53be-4e98-b47f-45303002c3c8",
   "metadata": {},
   "outputs": [],
   "source": [
    "#wtite a python progam to remove punctuation from a string"
   ]
  }
 ],
 "metadata": {
  "kernelspec": {
   "display_name": "Python 3 (ipykernel)",
   "language": "python",
   "name": "python3"
  },
  "language_info": {
   "codemirror_mode": {
    "name": "ipython",
    "version": 3
   },
   "file_extension": ".py",
   "mimetype": "text/x-python",
   "name": "python",
   "nbconvert_exporter": "python",
   "pygments_lexer": "ipython3",
   "version": "3.11.7"
  }
 },
 "nbformat": 4,
 "nbformat_minor": 5
}
