{
 "cells": [
  {
   "cell_type": "code",
   "execution_count": 1,
   "id": "11196d19-f0cd-4cda-9f58-efe0d1f750e0",
   "metadata": {},
   "outputs": [
    {
     "data": {
      "text/plain": [
       "'Question 1:\\nDefine a class with a generator which can iterate the numbers, which are divisible by\\n7, between a given range 0 and n.\\n\\n\\nQuestion 2:\\nWrite a program to compute the frequency of the words from the input. The output\\nshould output after sorting the key alphanumerically.\\nSuppose the following input is supplied to the program:\\nNew to Python or choosing between Python 2 and Python 3? Read Python 2 or\\nPython 3.\\nThen, the output should be:\\n2:2\\n3.:1\\n3?:1\\nNew:1\\nPython:5\\nRead:1\\nand:1\\nbetween:1\\nchoosing:1\\nor:2\\nto:1'"
      ]
     },
     "execution_count": 1,
     "metadata": {},
     "output_type": "execute_result"
    }
   ],
   "source": [
    "'''Question 1:\n",
    "Define a class with a generator which can iterate the numbers, which are divisible by\n",
    "7, between a given range 0 and n.\n",
    "\n",
    "\n",
    "Question 2:\n",
    "Write a program to compute the frequency of the words from the input. The output\n",
    "should output after sorting the key alphanumerically.\n",
    "Suppose the following input is supplied to the program:\n",
    "New to Python or choosing between Python 2 and Python 3? Read Python 2 or\n",
    "Python 3.\n",
    "Then, the output should be:\n",
    "2:2\n",
    "3.:1\n",
    "3?:1\n",
    "New:1\n",
    "Python:5\n",
    "Read:1\n",
    "and:1\n",
    "between:1\n",
    "choosing:1\n",
    "or:2\n",
    "to:1'''"
   ]
  },
  {
   "cell_type": "code",
   "execution_count": 2,
   "id": "1fa94397-e843-449d-91fd-990df2fb3cff",
   "metadata": {},
   "outputs": [
    {
     "name": "stdout",
     "output_type": "stream",
     "text": [
      "Male\n",
      "Female\n"
     ]
    }
   ],
   "source": [
    "'''Question 3:\n",
    "Define a class Person and its two child classes: Male and Female. All classes have a\n",
    "method &quot;getGender&quot; which can print &quot;Male&quot; for Male class and &quot;Female&quot; for Female'''\n",
    "\n",
    "\n",
    "class Person:\n",
    "  def getGender(self):\n",
    "      return \"Unknown\"\n",
    "\n",
    "class Male(Person):\n",
    "  def getGender(self):\n",
    "      return \"Male\"\n",
    "\n",
    "class Female(Person):\n",
    "  def getGender(self):\n",
    "      return \"Female\"\n",
    "\n",
    "male_person = Male()\n",
    "female_person = Female()\n",
    "\n",
    "print(male_person.getGender())   \n",
    "print(female_person.getGender()) "
   ]
  },
  {
   "cell_type": "code",
   "execution_count": 3,
   "id": "65c7949f-a96d-406f-96e1-3a1b1cf31bd3",
   "metadata": {},
   "outputs": [
    {
     "name": "stdout",
     "output_type": "stream",
     "text": [
      "I Play Hockey.\n",
      "I Play Football.\n",
      "I Love Hockey.\n",
      "I Love Football.\n",
      "You Play Hockey.\n",
      "You Play Football.\n",
      "You Love Hockey.\n",
      "You Love Football.\n"
     ]
    }
   ],
   "source": [
    "'''Question 4:\n",
    "Please write a program to generate all sentences where subject is in [&quot;I&quot;, &quot;You&quot;] and\n",
    "verb is in [&quot;Play&quot;, &quot;Love&quot;] and the object is in [&quot;Hockey&quot;,&quot;Football&quot;].'''\n",
    "\n",
    "\n",
    "subjects = [\"I\", \"You\"]\n",
    "verbs = [\"Play\", \"Love\"]\n",
    "objects = [\"Hockey\", \"Football\"]\n",
    "\n",
    "for subject in subjects:\n",
    "    for verb in verbs:\n",
    "        for obj in objects:\n",
    "            sentence = f\"{subject} {verb} {obj}.\"\n",
    "            print(sentence)\n"
   ]
  },
  {
   "cell_type": "code",
   "execution_count": 4,
   "id": "2a8b80de-b232-4923-b58e-54e87405e14b",
   "metadata": {},
   "outputs": [
    {
     "name": "stdout",
     "output_type": "stream",
     "text": [
      "Original string: hello world!hello world!hello world!hello world!\n",
      "Compressed string: b'x\\x9c\\xcbH\\xcd\\xc9\\xc9W(\\xcf/\\xcaIQ\\xcc \\x82\\r\\x00\\xbd[\\x11\\xf5'\n",
      "Decompressed string: hello world!hello world!hello world!hello world!\n"
     ]
    }
   ],
   "source": [
    "'''Question 5:\n",
    "Please write a program to compress and decompress the string \"hello world!hello\n",
    "world!hello world!hello world!\";'''\n",
    "\n",
    "import zlib\n",
    "\n",
    "original_string = \"hello world!hello world!hello world!hello world!\"\n",
    "\n",
    "compressed_string = zlib.compress(original_string.encode())\n",
    "\n",
    "decompressed_string = zlib.decompress(compressed_string).decode()\n",
    "print(\"Original string:\", original_string)\n",
    "print(\"Compressed string:\", compressed_string)\n",
    "print(\"Decompressed string:\", decompressed_string)"
   ]
  },
  {
   "cell_type": "code",
   "execution_count": 5,
   "id": "3b4e9662-ed87-4766-a1a4-0ae16b10febe",
   "metadata": {},
   "outputs": [
    {
     "name": "stdout",
     "output_type": "stream",
     "text": [
      "Element 7 is present at index 3.\n"
     ]
    }
   ],
   "source": [
    "\n",
    "\n",
    "'''Please write a binary search function which searches an item in a sorted list. The\n",
    "function should return the index of element to be searched in the list.'''\n",
    "\n",
    "def binary_search(arr, target):\n",
    "  left = 0\n",
    "  right = len(arr) - 1\n",
    "\n",
    "  while left <= right:\n",
    "      mid = (left + right) // 2\n",
    "\n",
    "    \n",
    "      if arr[mid] == target:\n",
    "          return mid\n",
    "\n",
    "    \n",
    "      elif arr[mid] < target:\n",
    "          left = mid + 1\n",
    "\n",
    "      \n",
    "      else:\n",
    "          right = mid - 1\n",
    "\n",
    "  return -1\n",
    "sorted_list = [1, 3, 5, 7, 9, 11, 13, 15]\n",
    "target = 7\n",
    "index = binary_search(sorted_list, target)\n",
    "if index != -1:\n",
    "  print(f\"Element {target} is present at index {index}.\")\n",
    "else:\n",
    "  print(\"Element not found.\")\n"
   ]
  },
  {
   "cell_type": "code",
   "execution_count": null,
   "id": "ae2d6e47-f48e-4722-a45b-3c68976222ba",
   "metadata": {},
   "outputs": [],
   "source": []
  }
 ],
 "metadata": {
  "kernelspec": {
   "display_name": "Python 3 (ipykernel)",
   "language": "python",
   "name": "python3"
  },
  "language_info": {
   "codemirror_mode": {
    "name": "ipython",
    "version": 3
   },
   "file_extension": ".py",
   "mimetype": "text/x-python",
   "name": "python",
   "nbconvert_exporter": "python",
   "pygments_lexer": "ipython3",
   "version": "3.11.7"
  }
 },
 "nbformat": 4,
 "nbformat_minor": 5
}
