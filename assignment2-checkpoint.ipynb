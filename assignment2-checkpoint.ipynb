{
 "cells": [
  {
   "cell_type": "code",
   "execution_count": 1,
   "id": "76810f10-829b-432d-9a9d-37733442194b",
   "metadata": {},
   "outputs": [],
   "source": [
    "#assignment 2 "
   ]
  },
  {
   "cell_type": "code",
   "execution_count": 2,
   "id": "7c8f767e-de9c-4d3a-a0d8-24ab53118d98",
   "metadata": {},
   "outputs": [
    {
     "name": "stdin",
     "output_type": "stream",
     "text": [
      "Enter distance in kilometers:  87\n"
     ]
    },
    {
     "name": "stdout",
     "output_type": "stream",
     "text": [
      "87.0 kilometers is equal to 54.059277 miles.\n"
     ]
    }
   ],
   "source": [
    "#1. write a python program to conver kilometers to miles\n",
    "\n",
    "def km_to_miles(km):\n",
    "  miles = km * 0.621371\n",
    "  return miles\n",
    "\n",
    "kilometers = float(input(\"Enter distance in kilometers: \"))\n",
    "miles = km_to_miles(kilometers)\n",
    "print(f\"{kilometers} kilometers is equal to {miles} miles.\")\n"
   ]
  },
  {
   "cell_type": "code",
   "execution_count": 3,
   "id": "ff7442ed-145e-4fae-86a1-f00985163e1b",
   "metadata": {},
   "outputs": [
    {
     "name": "stdin",
     "output_type": "stream",
     "text": [
      "Enter temperature in Celsius:  567\n"
     ]
    },
    {
     "name": "stdout",
     "output_type": "stream",
     "text": [
      "567.0 degrees Celsius is equal to 1052.6 degrees Fahrenheit.\n"
     ]
    }
   ],
   "source": [
    "#2. write a python program to convert temperature from celsius to fahrenheit\n",
    "\n",
    "def celsius_to_fahrenheit(celsius):\n",
    "  fahrenheit = (celsius * 9/5) + 32\n",
    "  return fahrenheit\n",
    "\n",
    "celsius = float(input(\"Enter temperature in Celsius: \"))\n",
    "fahrenheit = celsius_to_fahrenheit(celsius)\n",
    "print(f\"{celsius} degrees Celsius is equal to {fahrenheit} degrees Fahrenheit.\")\n"
   ]
  },
  {
   "cell_type": "code",
   "execution_count": 4,
   "id": "86d3a1f8-28f5-429e-a2f3-14e3e9f54329",
   "metadata": {},
   "outputs": [
    {
     "name": "stdin",
     "output_type": "stream",
     "text": [
      "Enter the year:  2024\n",
      "Enter the month (1-12):  5\n"
     ]
    },
    {
     "name": "stdout",
     "output_type": "stream",
     "text": [
      "Calendar:\n",
      "      May 2024\n",
      "Mo Tu We Th Fr Sa Su\n",
      "       1  2  3  4  5\n",
      " 6  7  8  9 10 11 12\n",
      "13 14 15 16 17 18 19\n",
      "20 21 22 23 24 25 26\n",
      "27 28 29 30 31\n",
      "\n"
     ]
    }
   ],
   "source": [
    "#3. write a python program to show the calendar\n",
    "import calendar\n",
    "\n",
    "def display_calendar(year, month):\n",
    "    cal = calendar.month(year, month)\n",
    "    print(\"Calendar:\")\n",
    "    print(cal)\n",
    "\n",
    "year = int(input(\"Enter the year: \"))\n",
    "month = int(input(\"Enter the month (1-12): \"))\n",
    "display_calendar(year, month)"
   ]
  },
  {
   "cell_type": "code",
   "execution_count": 5,
   "id": "e99b1aa9-f9ec-401a-ac4a-27358472c6da",
   "metadata": {},
   "outputs": [
    {
     "name": "stdout",
     "output_type": "stream",
     "text": [
      "Before swapping: x = 5 and y = 10\n",
      "After swapping: x = 10 and y = 5\n"
     ]
    }
   ],
   "source": [
    "\n",
    "#5. write a python program to awap two variables without temp variable \n",
    "def swap_without_temp(a, b):\n",
    "  a = a + b\n",
    "  b = a - b\n",
    "  a = a - b\n",
    "  return a, b\n",
    "\n",
    "x = 5\n",
    "y = 10\n",
    "print(\"Before swapping: x =\", x, \"and y =\", y)\n",
    "x, y = swap_without_temp(x, y)\n",
    "print(\"After swapping: x =\", x, \"and y =\", y)\n"
   ]
  },
  {
   "cell_type": "code",
   "execution_count": null,
   "id": "88f27f8b-4e0e-409e-85dc-d3dda277072a",
   "metadata": {},
   "outputs": [],
   "source": [
    "#4 write a python program to solve a quadratic equation "
   ]
  },
  {
   "cell_type": "code",
   "execution_count": null,
   "id": "20bec4be-1ecf-4645-a837-badf671c2c9a",
   "metadata": {},
   "outputs": [],
   "source": []
  }
 ],
 "metadata": {
  "kernelspec": {
   "display_name": "Python 3 (ipykernel)",
   "language": "python",
   "name": "python3"
  },
  "language_info": {
   "codemirror_mode": {
    "name": "ipython",
    "version": 3
   },
   "file_extension": ".py",
   "mimetype": "text/x-python",
   "name": "python",
   "nbconvert_exporter": "python",
   "pygments_lexer": "ipython3",
   "version": "3.11.7"
  }
 },
 "nbformat": 4,
 "nbformat_minor": 5
}
