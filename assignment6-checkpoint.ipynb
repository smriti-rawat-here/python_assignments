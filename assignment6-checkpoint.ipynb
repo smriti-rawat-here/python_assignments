{
 "cells": [
  {
   "cell_type": "code",
   "execution_count": 1,
   "id": "2d5eec0a-9c57-4f7c-ac5f-710b82e17bd0",
   "metadata": {},
   "outputs": [
    {
     "name": "stdout",
     "output_type": "stream",
     "text": [
      "Fibonacci sequence:\n",
      "0\n",
      "1\n",
      "1\n",
      "2\n",
      "3\n",
      "5\n",
      "8\n",
      "13\n",
      "21\n",
      "34\n"
     ]
    }
   ],
   "source": [
    "#assignment 6\n",
    "#write a python program for fibonacci sequence using recursion \n",
    "def fibonacci(n):\n",
    "  if n <= 1:\n",
    "      return n\n",
    "  else:\n",
    "      return fibonacci(n - 1) + fibonacci(n - 2)\n",
    "num_terms = 10\n",
    "print(\"Fibonacci sequence:\")\n",
    "for i in range(num_terms):\n",
    "  print(fibonacci(i))"
   ]
  },
  {
   "cell_type": "code",
   "execution_count": 3,
   "id": "092048f3-bb2b-42b9-9ce9-59fdaadfbb29",
   "metadata": {},
   "outputs": [
    {
     "name": "stdout",
     "output_type": "stream",
     "text": [
      "The factorial of 5 is: 120\n"
     ]
    }
   ],
   "source": [
    "\n",
    "#write a python program to find factorial of number using Recursion \n",
    "def factorial(n):\n",
    "  if n == 0:\n",
    "      return 1\n",
    "  else:\n",
    "      return n * factorial(n - 1)\n",
    "number = 5\n",
    "print(f\"The factorial of {number} is:\", factorial(number))"
   ]
  },
  {
   "cell_type": "code",
   "execution_count": 4,
   "id": "18348e4f-6f16-4a22-8fbf-efabe61feeac",
   "metadata": {},
   "outputs": [
    {
     "name": "stdout",
     "output_type": "stream",
     "text": [
      "The cube sum of the first 5 natural numbers is: 225\n"
     ]
    }
   ],
   "source": [
    "#write a python program for cube sum of n of natural numbers \n",
    "def cube_sum(n):\n",
    "  return (n * (n + 1) // 2) ** 2\n",
    "n = 5\n",
    "print(f\"The cube sum of the first {n} natural numbers is:\", cube_sum(n))"
   ]
  },
  {
   "cell_type": "code",
   "execution_count": 7,
   "id": "5f425658-0645-4b4f-8e3a-531144ca2198",
   "metadata": {},
   "outputs": [
    {
     "name": "stdin",
     "output_type": "stream",
     "text": [
      "Enter your weight in kilograms:  47\n",
      "Enter your height in meters:  1.524\n"
     ]
    },
    {
     "name": "stdout",
     "output_type": "stream",
     "text": [
      "Your Body Mass Index (BMI) is: 20.236151583414276\n"
     ]
    }
   ],
   "source": [
    "\n",
    "#write a python program to calculate the body mass index \n",
    "weight = float(input(\"Enter your weight in kilograms: \"))\n",
    "height = float(input(\"Enter your height in meters: \"))\n",
    "\n",
    "bmi = weight / (height * height)\n",
    "\n",
    "print(\"Your Body Mass Index (BMI) is:\", bmi)"
   ]
  },
  {
   "cell_type": "code",
   "execution_count": 8,
   "id": "e29e9bcf-3124-4628-aaa0-4d84ce7aff0e",
   "metadata": {},
   "outputs": [
    {
     "name": "stdin",
     "output_type": "stream",
     "text": [
      "Enter a number:  87\n"
     ]
    },
    {
     "name": "stdout",
     "output_type": "stream",
     "text": [
      "The natural logarithm of 87.0 is: 4.465908118654584\n"
     ]
    }
   ],
   "source": [
    "# write a python program to calculate the natural logrithm of any number\n",
    "import math\n",
    "\n",
    "number = float(input(\"Enter a number: \"))\n",
    "\n",
    "natural_log = math.log(number)\n",
    "\n",
    "print(\"The natural logarithm of\", number, \"is:\", natural_log)\n"
   ]
  },
  {
   "cell_type": "code",
   "execution_count": null,
   "id": "042a30ba-f3a2-4835-8ec1-faec20e680a5",
   "metadata": {},
   "outputs": [],
   "source": []
  }
 ],
 "metadata": {
  "kernelspec": {
   "display_name": "Python 3 (ipykernel)",
   "language": "python",
   "name": "python3"
  },
  "language_info": {
   "codemirror_mode": {
    "name": "ipython",
    "version": 3
   },
   "file_extension": ".py",
   "mimetype": "text/x-python",
   "name": "python",
   "nbconvert_exporter": "python",
   "pygments_lexer": "ipython3",
   "version": "3.11.7"
  }
 },
 "nbformat": 4,
 "nbformat_minor": 5
}
