{
 "cells": [
  {
   "cell_type": "code",
   "execution_count": 1,
   "id": "af8de6f4-a66f-4279-82dc-87a3ce86e5ca",
   "metadata": {},
   "outputs": [],
   "source": [
    "#assignment3 \n"
   ]
  },
  {
   "cell_type": "code",
   "execution_count": 2,
   "id": "75a8989e-3ca6-4b30-b877-21dd3ca85341",
   "metadata": {},
   "outputs": [
    {
     "name": "stdin",
     "output_type": "stream",
     "text": [
      "Enter a number:  22\n"
     ]
    },
    {
     "name": "stdout",
     "output_type": "stream",
     "text": [
      "The number is Positive\n"
     ]
    }
   ],
   "source": [
    "#1 write a python program to check if a number is positive negative or zero?\n",
    "def check_number(num):\n",
    "  if num > 0:\n",
    "      return \"Positive\"\n",
    "  elif num < 0:\n",
    "      return \"Negative\"\n",
    "  else:\n",
    "      return \"Zero\"\n",
    "\n",
    "number = float(input(\"Enter a number: \"))\n",
    "result = check_number(number)\n",
    "print(\"The number is\", result)\n"
   ]
  },
  {
   "cell_type": "code",
   "execution_count": 3,
   "id": "19de7345-a38d-41c5-8470-51a3df98f1ba",
   "metadata": {},
   "outputs": [
    {
     "name": "stdin",
     "output_type": "stream",
     "text": [
      "Enter a number:  34\n"
     ]
    },
    {
     "name": "stdout",
     "output_type": "stream",
     "text": [
      "The number is Even\n"
     ]
    }
   ],
   "source": [
    "#2 write a python program to check if a number is odd or even?\n",
    "def check_odd_even(num):\n",
    "  if num % 2 == 0:\n",
    "      return \"Even\"\n",
    "  else:\n",
    "      return \"Odd\"\n",
    "\n",
    "number = int(input(\"Enter a number: \"))\n",
    "result = check_odd_even(number)\n",
    "print(\"The number is\", result)"
   ]
  },
  {
   "cell_type": "code",
   "execution_count": 4,
   "id": "f7f4270e-5392-4f23-a2ce-404d15b9d024",
   "metadata": {},
   "outputs": [
    {
     "name": "stdin",
     "output_type": "stream",
     "text": [
      "Enter a year:  2024\n"
     ]
    },
    {
     "name": "stdout",
     "output_type": "stream",
     "text": [
      "2024 is a leap year.\n"
     ]
    }
   ],
   "source": [
    "#3 write a python program to check leap year\n",
    "import calendar\n",
    "\n",
    "def is_leap_year(year):\n",
    "    return calendar.isleap(year)\n",
    "\n",
    "year = int(input(\"Enter a year: \"))\n",
    "if is_leap_year(year):\n",
    "    print(year, \"is a leap year.\")\n",
    "else:\n",
    "    print(year, \"is not a leap year.\")"
   ]
  },
  {
   "cell_type": "code",
   "execution_count": null,
   "id": "ed1194e5-ceca-4d6e-9256-56331dec7e19",
   "metadata": {},
   "outputs": [],
   "source": [
    "#4 wirte a python program to check prime number \n",
    "  \n",
    "#5 write a python program to pritn al prime numbers in an interval of 1-10000"
   ]
  }
 ],
 "metadata": {
  "kernelspec": {
   "display_name": "Python 3 (ipykernel)",
   "language": "python",
   "name": "python3"
  },
  "language_info": {
   "codemirror_mode": {
    "name": "ipython",
    "version": 3
   },
   "file_extension": ".py",
   "mimetype": "text/x-python",
   "name": "python",
   "nbconvert_exporter": "python",
   "pygments_lexer": "ipython3",
   "version": "3.11.7"
  }
 },
 "nbformat": 4,
 "nbformat_minor": 5
}
