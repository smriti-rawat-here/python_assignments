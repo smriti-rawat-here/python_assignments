{
 "cells": [
  {
   "cell_type": "code",
   "execution_count": 2,
   "id": "f625b518-39f7-48d7-9f3b-c25d1ddf26c0",
   "metadata": {},
   "outputs": [],
   "source": [
    "#assignment 4 \n"
   ]
  },
  {
   "cell_type": "code",
   "execution_count": 3,
   "id": "b420c09c-8fff-4e6b-a63f-4620d7cfeebc",
   "metadata": {},
   "outputs": [
    {
     "name": "stdin",
     "output_type": "stream",
     "text": [
      "Enter a number:  55\n"
     ]
    },
    {
     "name": "stdout",
     "output_type": "stream",
     "text": [
      "The factorial of 55 is 12696403353658275925965100847566516959580321051449436762275840000000000000\n"
     ]
    }
   ],
   "source": [
    "#1 write apython program to find the factorial of a number\n",
    "def factorial(n):\n",
    "  if n == 0:\n",
    "      return 1\n",
    "  else:\n",
    "      return n * factorial(n-1)\n",
    "\n",
    "num = int(input(\"Enter a number: \"))\n",
    "\n",
    "if num < 0:\n",
    "  print(\"Factorial does not exist for negative numbers.\")\n",
    "elif num == 0:\n",
    "  print(\"The factorial of 0 is 1.\")\n",
    "else:\n",
    "  print(\"The factorial of\", num, \"is\", factorial(num))"
   ]
  },
  {
   "cell_type": "code",
   "execution_count": 4,
   "id": "79ff74bc-59e1-471a-9486-12f07844423d",
   "metadata": {},
   "outputs": [
    {
     "name": "stdin",
     "output_type": "stream",
     "text": [
      "Enter a number:  77\n",
      "Enter the limit of the table:  10\n"
     ]
    },
    {
     "name": "stdout",
     "output_type": "stream",
     "text": [
      "Multiplication Table of 77\n",
      "77 x 1 = 77\n",
      "77 x 2 = 154\n",
      "77 x 3 = 231\n",
      "77 x 4 = 308\n",
      "77 x 5 = 385\n",
      "77 x 6 = 462\n",
      "77 x 7 = 539\n",
      "77 x 8 = 616\n",
      "77 x 9 = 693\n",
      "77 x 10 = 770\n"
     ]
    }
   ],
   "source": [
    "#2 write a python program o display the multiplication table of a number  \n",
    "def multiplication_table(number, limit):\n",
    "  print(\"Multiplication Table of\", number)\n",
    "  for i in range(1, limit + 1):\n",
    "      print(number, \"x\", i, \"=\", number * i)\n",
    "\n",
    "num = int(input(\"Enter a number: \"))\n",
    "table_limit = int(input(\"Enter the limit of the table: \"))\n",
    "\n",
    "multiplication_table(num, table_limit)\n"
   ]
  },
  {
   "cell_type": "code",
   "execution_count": 6,
   "id": "00a423c9-62ab-4ec4-90be-0af2cef28a78",
   "metadata": {},
   "outputs": [
    {
     "name": "stdin",
     "output_type": "stream",
     "text": [
      "Enter the number of terms for the Fibonacci sequence:  8\n"
     ]
    },
    {
     "name": "stdout",
     "output_type": "stream",
     "text": [
      "Fibonacci sequence up to 8 terms:\n",
      "0\n",
      "1\n",
      "1\n",
      "2\n",
      "3\n",
      "5\n",
      "8\n",
      "13\n"
     ]
    }
   ],
   "source": [
    "#3 write a python program to print the fibonacci sequence \n",
    "def fibonacci(n):\n",
    "  if n <= 1:\n",
    "      return n\n",
    "  else:\n",
    "      return fibonacci(n-1) + fibonacci(n-2)\n",
    "\n",
    "num_terms = int(input(\"Enter the number of terms for the Fibonacci sequence: \"))\n",
    "\n",
    "print(\"Fibonacci sequence up to\", num_terms, \"terms:\")\n",
    "for i in range(num_terms):\n",
    "  print(fibonacci(i))"
   ]
  },
  {
   "cell_type": "code",
   "execution_count": 7,
   "id": "1af78a96-77ae-4b49-9342-2330c75acfbf",
   "metadata": {},
   "outputs": [
    {
     "name": "stdin",
     "output_type": "stream",
     "text": [
      "Enter a number:  54\n"
     ]
    },
    {
     "name": "stdout",
     "output_type": "stream",
     "text": [
      "54 is not an Armstrong number.\n"
     ]
    }
   ],
   "source": [
    "#4 write a python program to check Armstrong number \n",
    "\n",
    "def is_armstrong(number):\n",
    "  num_str = str(number)\n",
    "  num_digits = len(num_str)\n",
    "  return number == sum(int(digit) ** num_digits for digit in num_str)\n",
    "\n",
    "num = int(input(\"Enter a number: \"))\n",
    "\n",
    "if is_armstrong(num):\n",
    "  print(num, \"is an Armstrong number.\")\n",
    "else:\n",
    "  print(num, \"is not an Armstrong number.\")"
   ]
  },
  {
   "cell_type": "code",
   "execution_count": 8,
   "id": "cf8746e9-d315-4a25-b9d3-ec1fb421c516",
   "metadata": {},
   "outputs": [
    {
     "name": "stdin",
     "output_type": "stream",
     "text": [
      "Enter the start of the interval:  8\n",
      "Enter the end of the interval:  12\n"
     ]
    },
    {
     "name": "stdout",
     "output_type": "stream",
     "text": [
      "Armstrong numbers within the interval 8 to 12 are:\n",
      "8\n",
      "9\n"
     ]
    }
   ],
   "source": [
    "\n",
    "#5 write a python program to find armstrsong number in a given interval \n",
    "def is_armstrong(number):\n",
    "  num_str = str(number)\n",
    "  num_digits = len(num_str)\n",
    "  return number == sum(int(digit) ** num_digits for digit in num_str)\n",
    "\n",
    "start = int(input(\"Enter the start of the interval: \"))\n",
    "end = int(input(\"Enter the end of the interval: \"))\n",
    "\n",
    "print(\"Armstrong numbers within the interval\", start, \"to\", end, \"are:\")\n",
    "for num in range(start, end + 1):\n",
    "  if is_armstrong(num):\n",
    "      print(num)"
   ]
  },
  {
   "cell_type": "code",
   "execution_count": 9,
   "id": "b0953eb0-e4e8-4d6d-87ca-4bcb282d18c9",
   "metadata": {},
   "outputs": [
    {
     "name": "stdin",
     "output_type": "stream",
     "text": [
      "Enter a natural number:  65\n"
     ]
    },
    {
     "name": "stdout",
     "output_type": "stream",
     "text": [
      "The sum of natural numbers up to 65 is: 2145\n"
     ]
    }
   ],
   "source": [
    "#6 write a python program to find the sum of natural number \n",
    "def sum_of_natural_numbers(n):\n",
    "  return n * (n + 1) // 2\n",
    "\n",
    "num = int(input(\"Enter a natural number: \"))\n",
    "print(\"The sum of natural numbers up to\", num, \"is:\", sum_of_natural_numbers(num))"
   ]
  },
  {
   "cell_type": "code",
   "execution_count": null,
   "id": "aa19bc1f-87df-45b8-83f4-494c7b994851",
   "metadata": {},
   "outputs": [],
   "source": []
  }
 ],
 "metadata": {
  "kernelspec": {
   "display_name": "Python 3 (ipykernel)",
   "language": "python",
   "name": "python3"
  },
  "language_info": {
   "codemirror_mode": {
    "name": "ipython",
    "version": 3
   },
   "file_extension": ".py",
   "mimetype": "text/x-python",
   "name": "python",
   "nbconvert_exporter": "python",
   "pygments_lexer": "ipython3",
   "version": "3.11.7"
  }
 },
 "nbformat": 4,
 "nbformat_minor": 5
}
