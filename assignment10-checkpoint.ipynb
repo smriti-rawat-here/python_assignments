{
 "cells": [
  {
   "cell_type": "code",
   "execution_count": 3,
   "id": "1b8262c6-1166-44a8-8c4d-58f387973f19",
   "metadata": {},
   "outputs": [
    {
     "name": "stdout",
     "output_type": "stream",
     "text": [
      "Sum of elements in the list: 15\n"
     ]
    }
   ],
   "source": [
    "#assignment 10 \n",
    "#write a python program to find sum of elements in list \n",
    "my_list = [1, 2, 3, 4, 5]\n",
    "print(\"Sum of elements in the list:\", sum(my_list))"
   ]
  },
  {
   "cell_type": "code",
   "execution_count": 4,
   "id": "b46938ad-b604-43d5-84e1-112d31d13fad",
   "metadata": {},
   "outputs": [
    {
     "name": "stdout",
     "output_type": "stream",
     "text": [
      "Smallest number in the list: 3\n",
      "Largest number in the list: 20\n"
     ]
    }
   ],
   "source": [
    "#write a python program to find largest and smallest number in list\n",
    "my_list = [10, 5, 8, 20, 3]\n",
    "print(\"Smallest number in the list:\", min(my_list))\n",
    "print(\"Largest number in the list:\", max(my_list))\n"
   ]
  },
  {
   "cell_type": "code",
   "execution_count": 5,
   "id": "38a290ce-eee6-48a1-ae88-de7e4dc9c7a5",
   "metadata": {},
   "outputs": [
    {
     "name": "stdout",
     "output_type": "stream",
     "text": [
      "Second largest number in the list: 10\n"
     ]
    }
   ],
   "source": [
    "#write a python program to find second largest number in list\n",
    "my_list = [10, 5, 8, 20, 3]\n",
    "sorted_list = sorted(my_list)\n",
    "second_largest = sorted_list[-2]\n",
    "print(\"Second largest number in the list:\", second_largest)"
   ]
  },
  {
   "cell_type": "code",
   "execution_count": 6,
   "id": "8b7371ab-3d32-46ac-bc12-752e095b2e3b",
   "metadata": {},
   "outputs": [
    {
     "name": "stdout",
     "output_type": "stream",
     "text": [
      "Multiplication of all numbers in the list: 120\n"
     ]
    }
   ],
   "source": [
    "#write a python program to find N largest elemets in list\n",
    "#write a python program to multiply all the numbers in the list\n",
    "my_list = [1, 2, 3, 4, 5]\n",
    "result = 1\n",
    "for num in my_list:\n",
    "    result *= num\n",
    "print(\"Multiplication of all numbers in the list:\", result)\n"
   ]
  },
  {
   "cell_type": "code",
   "execution_count": 7,
   "id": "d83abd48-82e1-438b-b160-2e7a9b9c8f3d",
   "metadata": {},
   "outputs": [
    {
     "name": "stdout",
     "output_type": "stream",
     "text": [
      "Even numbers: [2, 4, 6, 8]\n",
      "Odd numbers: [1, 3, 5, 7, 9]\n"
     ]
    }
   ],
   "source": [
    "#write a python program to print even and odd numbers in the list \n",
    "my_list = [1, 2, 3, 4, 5, 6, 7, 8, 9]\n",
    "\n",
    "even_numbers = []\n",
    "odd_numbers = []\n",
    "\n",
    "for num in my_list:\n",
    "    if num % 2 == 0:\n",
    "        even_numbers.append(num)\n",
    "    else:\n",
    "        odd_numbers.append(num)\n",
    "\n",
    "print(\"Even numbers:\", even_numbers)\n",
    "print(\"Odd numbers:\", odd_numbers)"
   ]
  },
  {
   "cell_type": "code",
   "execution_count": 8,
   "id": "2df97f64-1015-466b-b493-5ba28fe9ce3a",
   "metadata": {},
   "outputs": [
    {
     "name": "stdout",
     "output_type": "stream",
     "text": [
      "Original list: [1, 2, 3, 4, 5]\n",
      "Cloned list: [1, 2, 3, 4, 5]\n"
     ]
    }
   ],
   "source": [
    "\n",
    "#write a python program to remove empty list from list \n",
    "#write a python program to cloning or copying a list\n",
    "original_list = [1, 2, 3, 4, 5]\n",
    "cloned_list = original_list.copy()\n",
    "print(\"Original list:\", original_list)\n",
    "print(\"Cloned list:\", cloned_list)\n"
   ]
  },
  {
   "cell_type": "code",
   "execution_count": 9,
   "id": "c2be9e4a-19e2-4357-8c1e-f44b4243c427",
   "metadata": {},
   "outputs": [
    {
     "name": "stdout",
     "output_type": "stream",
     "text": [
      "The element 2 occurs 3 times in the list.\n"
     ]
    }
   ],
   "source": [
    "#write a pythonprogram to count occurances of an element in a list\n",
    "my_list = [1, 2, 3, 4, 5, 2, 2]\n",
    "count_ = my_list.count(2)\n",
    "print(f\"The element {2} occurs {count_} times in the list.\")\n"
   ]
  },
  {
   "cell_type": "code",
   "execution_count": null,
   "id": "4f55635b-6a95-4f9f-bbd8-a4aff8cd477c",
   "metadata": {},
   "outputs": [],
   "source": []
  }
 ],
 "metadata": {
  "kernelspec": {
   "display_name": "Python 3 (ipykernel)",
   "language": "python",
   "name": "python3"
  },
  "language_info": {
   "codemirror_mode": {
    "name": "ipython",
    "version": 3
   },
   "file_extension": ".py",
   "mimetype": "text/x-python",
   "name": "python",
   "nbconvert_exporter": "python",
   "pygments_lexer": "ipython3",
   "version": "3.11.7"
  }
 },
 "nbformat": 4,
 "nbformat_minor": 5
}
